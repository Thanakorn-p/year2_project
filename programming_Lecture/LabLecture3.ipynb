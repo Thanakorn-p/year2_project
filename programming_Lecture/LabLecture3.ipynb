{
 "cells": [
  {
   "cell_type": "code",
   "execution_count": 26,
   "id": "bfd376fd",
   "metadata": {},
   "outputs": [],
   "source": [
    "#Import related libraries\n",
    "import numpy as np\n",
    "import matplotlib.pyplot as plt\n",
    "from scipy import stats"
   ]
  },
  {
   "cell_type": "code",
   "execution_count": 35,
   "id": "0c4a50f9",
   "metadata": {},
   "outputs": [
    {
     "name": "stdout",
     "output_type": "stream",
     "text": [
      "[3 1 3 3 4 3 1 1 1 5 0 2 5 2 2 1 1 0 0 1 0 4 2 0 2 4 4 1 2 1 3 1 3 2 4 1 4\n",
      " 0 2 1 2 1 3 2 2 4 4 1 1 2]\n"
     ]
    }
   ],
   "source": [
    "#Generate A_claims\n",
    "A_claims = np.random.poisson(lam=2, size=50)\n",
    "print(A_claims)"
   ]
  },
  {
   "cell_type": "code",
   "execution_count": 72,
   "id": "1f4f236e",
   "metadata": {},
   "outputs": [
    {
     "name": "stdout",
     "output_type": "stream",
     "text": [
      "[4 2 1 0 1 1 1 4 1 2 1 1 4 3 1 2 2 4 4 4 1 2 0 4 4 1 1 1 0 0 1 1 3 2 4 1 1\n",
      " 0 2 0 3 1 1 2 4 0 2 1 2 1 2 1 1 1 1 1 1 1 2 0 0 1 2 3 1 0 3 1 0 1]\n"
     ]
    },
    {
     "data": {
      "image/png": "[encoded data removed]",
      "text/plain": [
       "<Figure size 640x480 with 1 Axes>"
      ]
     },
     "metadata": {},
     "output_type": "display_data"
    }
   ],
   "source": [
    "#Generate B_claims\n",
    "xk = np.array([0, 1, 2, 3, 4])\n",
    "pk = np.array([0.2, 0.4, 0.2, 0.1, 0.1])\n",
    "custm = stats.rv_discrete(name='custm', values=(xk,pk))\n",
    "B_claims = custm.rvs(size=70)\n",
    "print(B_claims)\n",
    "\n",
    "#Plot histogram\n",
    "count, bins, ignored = plt.hist(B_claims, 5, density=False)"
   ]
  },
  {
   "cell_type": "code",
   "execution_count": 75,
   "id": "20371019",
   "metadata": {},
   "outputs": [
    {
     "name": "stdout",
     "output_type": "stream",
     "text": [
      "Average profit over 20000 runs: $10761.99175\n"
     ]
    }
   ],
   "source": [
    "#Run a trial simulation model\n",
    "no_runs = 20000\n",
    "A_sold = 50\n",
    "B_sold = 70\n",
    "A_price = 270\n",
    "B_price = 210\n",
    "A_fixed = 50\n",
    "B_fixed = 45\n",
    "A_compn = 50\n",
    "B_compn = 40\n",
    "A_revenue = A_sold*A_price\n",
    "B_revenue = B_sold*B_price\n",
    "A_tfc = A_sold*A_fixed\n",
    "B_tfc = B_sold*B_fixed\n",
    "\n",
    "#Additional lines\n",
    "##Create arrays to store profit and mean profit\n",
    "profit_arr = np.zeros(no_runs)\n",
    "mean_profit_arr = np.zeros(no_runs)\n",
    "\n",
    "\n",
    "for i in range(no_runs):\n",
    "    #Determine no. of claims per customer for Product A\n",
    "    A_claims = np.random.poisson(lam=2, size=A_sold)\n",
    "    #Determine no. of claims per customer for Product B\n",
    "    B_claims = custm.rvs(size=B_sold)\n",
    "    \n",
    "    #Determine total no. of claims for each product\n",
    "    A_claims_total = np.sum(A_claims)\n",
    "    B_claims_total = np.sum(B_claims)\n",
    "    \n",
    "    #Determine the compensation cost for each product\n",
    "    A_compn_total = A_compn*A_claims_total\n",
    "    B_compn_total = B_compn*B_claims_total\n",
    "    \n",
    "    #Determine the messenger cost for Product A\n",
    "    if A_claims_total <= 100:\n",
    "        A_messg = A_claims_total*15\n",
    "    else:\n",
    "        A_messg = (100*15) + (A_claims_total-100)*18\n",
    "    \n",
    "    #Determine the messenger cost for Product A\n",
    "    if B_claims_total <= 100:\n",
    "        B_messg = B_claims_total*10\n",
    "    else:\n",
    "        B_messg = (100*10) + (B_claims_total-100)*14\n",
    "    \n",
    "    #Determine profit for each product\n",
    "    A_profit = A_revenue - (A_tfc + A_compn_total + A_messg)\n",
    "    B_profit = B_revenue - (B_tfc + B_compn_total + B_messg)\n",
    "    \n",
    "    #Determine total profit\n",
    "    profit_total = A_profit + B_profit\n",
    "    \n",
    "    #Additional lines\n",
    "    ##Create profit and mean profit over runs\n",
    "    profit_arr[i] = profit_total\n",
    "    mean_profit_arr[i] = np.mean(profit_arr[:i+1])\n",
    "    \n",
    "print('Average profit over ' + str(i+1) + ' runs: $' + str(np.mean(profit_arr)))"
   ]
  },
  {
   "cell_type": "code",
   "execution_count": 25,
   "id": "986c61f8",
   "metadata": {},
   "outputs": [
    {
     "name": "stdout",
     "output_type": "stream",
     "text": [
      "run no.20000\n",
      "Total no. of claims for Product A: 98\n",
      "Total no. of claims for Product B: 104\n",
      "Total compensation cost for Product A: 4900\n",
      "Total compensation cost for Product B: 4160\n",
      "Total messenger cost for Product A: 1470\n",
      "Total messenger cost for Product B: 1056\n",
      "Profit for Product A: 4630\n",
      "Profit for Product B: 6334\n",
      "Total profit: 10964\n",
      "\n"
     ]
    }
   ],
   "source": [
    "print('run no.' + str(i+1))\n",
    "print('Total no. of claims for Product A: ' + str(A_claims_total))\n",
    "print('Total no. of claims for Product B: ' + str(B_claims_total))\n",
    "print('Total compensation cost for Product A: ' + str(A_compn_total))\n",
    "print('Total compensation cost for Product B: ' + str(B_compn_total))\n",
    "print('Total messenger cost for Product A: ' + str(A_messg))\n",
    "print('Total messenger cost for Product B: ' + str(B_messg))\n",
    "print('Profit for Product A: ' + str(A_profit))\n",
    "print('Profit for Product B: ' + str(B_profit))\n",
    "print('Total profit: ' + str(profit_total) + '\\n')"
   ]
  },
  {
   "cell_type": "code",
   "execution_count": 77,
   "id": "0bdc2f1f",
   "metadata": {},
   "outputs": [
    {
     "data": {
      "image/png": "[encoded data removed]",
      "text/plain": [
       "<Figure size 640x480 with 1 Axes>"
      ]
     },
     "metadata": {},
     "output_type": "display_data"
    }
   ],
   "source": [
    "#Plot the mean profit over the runs\n",
    "plt.plot(mean_profit_arr)\n",
    "plt.show()"
   ]
  },
  {
   "cell_type": "code",
   "execution_count": 76,
   "id": "de3a2d64",
   "metadata": {},
   "outputs": [
    {
     "name": "stdout",
     "output_type": "stream",
     "text": [
      "Object `density` not found.\n",
      "downside risk: 9337.8\n",
      "mean: 10761.99175\n",
      "upside risk: 12130.0\n"
     ]
    },
    {
     "data": {
      "text/plain": [
       "<matplotlib.lines.Line2D at 0x13a9f05e0>"
      ]
     },
     "execution_count": 76,
     "metadata": {},
     "output_type": "execute_result"
    },
    {
     "data": {
      "image/png": "[encoded data removed]",
      "text/plain": [
       "<Figure size 640x480 with 1 Axes>"
      ]
     },
     "metadata": {},
     "output_type": "display_data"
    }
   ],
   "source": [
    "# Plot the distribution of outputs\n",
    "count, bins , ignored = plt.hist(profit_arr, density = True)\n",
    "?density\n",
    "# Calculate the downside and upside risks\n",
    "downside = np.percentile(profit_arr, 5)\n",
    "upside = np.percentile(profit_arr, 95)\n",
    "ss_mean = np.mean(profit_arr)\n",
    "print('downside risk: ' + str(downside))\n",
    "print('mean: ' + str(ss_mean))\n",
    "print('upside risk: ' + str(upside))\n",
    "\n",
    "# Plot the critical values\n",
    "plt.axvline(x=downside, color='tab:red', linestyle='--')\n",
    "plt.axvline(x=ss_mean, color='black', linestyle='--')\n",
    "plt.axvline(x=upside, color='tab:green', linestyle='--')"
   ]
  },
  {
   "cell_type": "code",
   "execution_count": null,
   "id": "03ccc7f4",
   "metadata": {},
   "outputs": [],
   "source": []
  }
 ],
 "metadata": {
  "kernelspec": {
   "display_name": "Python 3 (ipykernel)",
   "language": "python",
   "name": "python3"
  },
  "language_info": {
   "codemirror_mode": {
    "name": "ipython",
    "version": 3
   },
   "file_extension": ".py",
   "mimetype": "text/x-python",
   "name": "python",
   "nbconvert_exporter": "python",
   "pygments_lexer": "ipython3",
   "version": "3.10.9"
  }
 },
 "nbformat": 4,
 "nbformat_minor": 5
}
