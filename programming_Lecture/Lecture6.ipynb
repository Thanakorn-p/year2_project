{
 "cells": [
  {
   "cell_type": "code",
   "execution_count": 1,
   "id": "4b5deafc",
   "metadata": {},
   "outputs": [
    {
     "name": "stdout",
     "output_type": "stream",
     "text": [
      "This is an example of a function\n",
      "which is not a complete program.\n"
     ]
    }
   ],
   "source": [
    "#Example 6.1\n",
    "def message():\n",
    "    print('This is an example of a function')\n",
    "    print('which is not a complete program.')\n",
    "    \n",
    "message()"
   ]
  },
  {
   "cell_type": "code",
   "execution_count": 2,
   "id": "c10925e8",
   "metadata": {},
   "outputs": [
    {
     "name": "stdout",
     "output_type": "stream",
     "text": [
      "What is your name?\n",
      "Thanakorn\n",
      "Hi, Thanakorn!\n"
     ]
    }
   ],
   "source": [
    "#Example 6.2\n",
    "def greeting(name):\n",
    "    print('Hi,',name+'!')\n",
    "name = input('What is your name?\\n')\n",
    "greeting(name)"
   ]
  },
  {
   "cell_type": "code",
   "execution_count": 21,
   "id": "4c4ffca9",
   "metadata": {},
   "outputs": [
    {
     "name": "stdout",
     "output_type": "stream",
     "text": [
      "0.984807753012208\n"
     ]
    }
   ],
   "source": [
    "#Example 6.3\n",
    "from math import pi, sin\n",
    "def deg_sin(x):\n",
    "    return sin(pi*x/180)\n",
    "print(deg_sin(80))"
   ]
  },
  {
   "cell_type": "code",
   "execution_count": 3,
   "id": "217d5437",
   "metadata": {},
   "outputs": [
    {
     "name": "stdout",
     "output_type": "stream",
     "text": [
      "The solution is x = 1.3 and y = -0.2\n"
     ]
    }
   ],
   "source": [
    "#Example 6.4\n",
    "def solve(a,b,c,d,e,f):\n",
    "    x = (d*e-b*f)/(a*d-b*c)\n",
    "    y = (a*f-c*e)/(a*d-b*c)\n",
    "    return [x,y]\n",
    "xsol, ysol = solve(2,3,4,1,2,5)\n",
    "print('The solution is x =',xsol,'and y =',ysol)"
   ]
  },
  {
   "cell_type": "code",
   "execution_count": 22,
   "id": "5efcbc9c",
   "metadata": {},
   "outputs": [
    {
     "name": "stdout",
     "output_type": "stream",
     "text": [
      "สวัสดีครับ สวัสดีครับ สวัสดีครับ สวัสดีครับ สวัสดีครับ  \n",
      "\n",
      "สวัสดีครับ  \n",
      "\n"
     ]
    }
   ],
   "source": [
    "#Example 6.5\n",
    "def multiple_print(string,n=1):\n",
    "    print(string*n,'\\n')\n",
    "multiple_print('สวัสดีครับ ',5)\n",
    "multiple_print('สวัสดีครับ ')"
   ]
  },
  {
   "cell_type": "code",
   "execution_count": 17,
   "id": "f5471121",
   "metadata": {},
   "outputs": [
    {
     "name": "stdout",
     "output_type": "stream",
     "text": [
      "What is your name?\n",
      "Thanakorn\n",
      "Hi, Thanakorn\n"
     ]
    },
    {
     "data": {
      "text/plain": [
       "' wrong function\\ndef main():\\n    get_name()\\n    print(\\'Hi,\\',name1)\\n\\n#\"Define the get_name function\"\\ndef get_name():\\n    name1 = input(\\'What is your name?\\n\\')\\nmain() #\"<= main() cannot access get_name() when get_name() is define out side main()\"\\n'"
      ]
     },
     "execution_count": 17,
     "metadata": {},
     "output_type": "execute_result"
    }
   ],
   "source": [
    "#Example 6.6\n",
    "\n",
    "#\"Define the get_name function\"\n",
    "def get_name():\n",
    "    name1 = input('What is your name?\\n')\n",
    "    return name1\n",
    "#\"Define the main function\"\n",
    "def main():\n",
    "    name2 = get_name()\n",
    "    print('Hi,',name2)\n",
    "    \n",
    "main()\n",
    "\n",
    "\"\"\" wrong function\n",
    "def main():\n",
    "    get_name()\n",
    "    print('Hi,',name1)\n",
    "\n",
    "#\"Define the get_name function\"\n",
    "def get_name():\n",
    "    name1 = input('What is your name?\\n')\n",
    "main() #\"<= main() cannot access get_name() when get_name() is define out side main()\"\n",
    "\"\"\""
   ]
  },
  {
   "cell_type": "code",
   "execution_count": 18,
   "id": "9ae1c9e0",
   "metadata": {},
   "outputs": [
    {
     "name": "stdout",
     "output_type": "stream",
     "text": [
      "14\n"
     ]
    },
    {
     "ename": "NameError",
     "evalue": "name 'x' is not defined",
     "output_type": "error",
     "traceback": [
      "\u001b[0;31m---------------------------------------------------------------------------\u001b[0m",
      "\u001b[0;31mNameError\u001b[0m                                 Traceback (most recent call last)",
      "Cell \u001b[0;32mIn[18], line 5\u001b[0m\n\u001b[1;32m      3\u001b[0m     \u001b[38;5;28;01mreturn\u001b[39;00m s\n\u001b[1;32m      4\u001b[0m \u001b[38;5;28mprint\u001b[39m(sum_func(\u001b[38;5;241m8\u001b[39m,\u001b[38;5;241m6\u001b[39m))\n\u001b[0;32m----> 5\u001b[0m \u001b[38;5;28mprint\u001b[39m(\u001b[43mx\u001b[49m)\n",
      "\u001b[0;31mNameError\u001b[0m: name 'x' is not defined"
     ]
    }
   ],
   "source": [
    "#Example 6.7\n",
    "def sum_func(x,y):\n",
    "    s = x + y\n",
    "    return s\n",
    "print(sum_func(8,6))\n",
    "print(x) #\"<= x is a local variable, print(x) error.\""
   ]
  },
  {
   "cell_type": "code",
   "execution_count": 23,
   "id": "e80231b1",
   "metadata": {},
   "outputs": [
    {
     "name": "stdout",
     "output_type": "stream",
     "text": [
      "Enter the item's regular price($): 100\n",
      "The sale price is $80.00\n"
     ]
    }
   ],
   "source": [
    "#Example 6.8\n",
    "#\"This program calculates a retail item's sale price.\"\n",
    "\n",
    "#\"DISCOUNT_PERCENTAGE is used as a global variable.\"\n",
    "DISCOUNT_PERCENTAGE = 0.20\n",
    "\n",
    "def main():\n",
    "    reg_price = get_regular_price()\n",
    "    sale_price = reg_price - discount(reg_price)\n",
    "    print('The sale price is $',format(sale_price,',.2f'),sep='')\n",
    "\n",
    "def get_regular_price():\n",
    "    price = float(input('Enter the item\\'s regular price($): '))\n",
    "    return price\n",
    "\n",
    "def discount(price):\n",
    "    return price*DISCOUNT_PERCENTAGE\n",
    "\n",
    "main()"
   ]
  },
  {
   "cell_type": "code",
   "execution_count": 24,
   "id": "ca52f821",
   "metadata": {},
   "outputs": [
    {
     "name": "stdout",
     "output_type": "stream",
     "text": [
      "2\n",
      "4\n"
     ]
    }
   ],
   "source": [
    "#Example 6.9\n",
    "def absolute_value(num):\n",
    "    if num >= 0:\n",
    "        return num\n",
    "    else:\n",
    "        return -num\n",
    "\n",
    "print(absolute_value(2))\n",
    "print(absolute_value(-4))"
   ]
  },
  {
   "cell_type": "code",
   "execution_count": 26,
   "id": "92dcd705",
   "metadata": {},
   "outputs": [
    {
     "name": "stdout",
     "output_type": "stream",
     "text": [
      "0 1 1 2 3 5 8 \n",
      "0 1 1 2 3 5 8 13 21 34 55 89 144 233 377 \n",
      "0 1 1 2 3 5 8 13 21 34 55 89 144 233 377 610 987 \n"
     ]
    }
   ],
   "source": [
    "#Example 6.10\n",
    "def fib(n):\n",
    "    a,b = 0,1\n",
    "    while a < n:\n",
    "        print(a, end=' ')\n",
    "        a,b = b, a+b\n",
    "    print()\n",
    "    \n",
    "fib(10)\n",
    "fib(500)\n",
    "fib(1000)"
   ]
  },
  {
   "cell_type": "code",
   "execution_count": 25,
   "id": "a3e5e99b",
   "metadata": {},
   "outputs": [
    {
     "name": "stdout",
     "output_type": "stream",
     "text": [
      "10\n",
      "33\n",
      "187\n"
     ]
    }
   ],
   "source": [
    "#Example 6.11\n",
    "def calculate_sum(a,*args):\n",
    "    sum = a\n",
    "    for i in args:\n",
    "        sum += i\n",
    "    return sum\n",
    "    \n",
    "print(calculate_sum(10))\n",
    "print(calculate_sum(10,11,12))\n",
    "print(calculate_sum(1,2,94,6,2,8,9,20,43,2))"
   ]
  },
  {
   "cell_type": "code",
   "execution_count": 27,
   "id": "488472aa",
   "metadata": {},
   "outputs": [
    {
     "name": "stdout",
     "output_type": "stream",
     "text": [
      "6.0\n"
     ]
    }
   ],
   "source": [
    "#Example 6.12\n",
    "def factorial(a):\n",
    "    f = 1\n",
    "    for i in range(1,a+1):\n",
    "        f=f*i\n",
    "    return f\n",
    "\n",
    "def combination(n,m):\n",
    "    return factorial(n)/(factorial(m)*factorial(n-m))\n",
    "\n",
    "print(combination(4,2))"
   ]
  }
 ],
 "metadata": {
  "kernelspec": {
   "display_name": "Python 3 (ipykernel)",
   "language": "python",
   "name": "python3"
  },
  "language_info": {
   "codemirror_mode": {
    "name": "ipython",
    "version": 3
   },
   "file_extension": ".py",
   "mimetype": "text/x-python",
   "name": "python",
   "nbconvert_exporter": "python",
   "pygments_lexer": "ipython3",
   "version": "3.10.9"
  }
 },
 "nbformat": 4,
 "nbformat_minor": 5
}
