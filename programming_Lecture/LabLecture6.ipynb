{
 "cells": [
  {
   "cell_type": "code",
   "execution_count": 1,
   "id": "75613ec1",
   "metadata": {},
   "outputs": [],
   "source": [
    "import numpy as np\n",
    "import csv\n",
    "from sklearn.model_selection import train_test_split\n",
    "from sklearn.linear_model import LinearRegression\n",
    "from sklearn.metrics import mean_squared_error, mean_absolute_percentage_error\n",
    "import matplotlib.pyplot as plt"
   ]
  },
  {
   "cell_type": "code",
   "execution_count": 5,
   "id": "867d3769",
   "metadata": {},
   "outputs": [
    {
     "name": "stdout",
     "output_type": "stream",
     "text": [
      "[['165349.2' '136897.8' '471784.1' 'New York' '192261.83']\n",
      " ['162597.7' '151377.59' '443898.53' 'California' '191792.06']\n",
      " ['153441.51' '101145.55' '407934.54' 'Florida' '191050.39']\n",
      " ['144372.41' '118671.85' '383199.62' 'New York' '182901.99']\n",
      " ['142107.34' '91391.77' '366168.42' 'Florida' '166187.94']\n",
      " ['131876.9' '99814.71' '362861.36' 'New York' '156991.12']\n",
      " ['134615.46' '147198.87' '127716.82' 'California' '156122.51']\n",
      " ['130298.13' '145530.06' '323876.68' 'Florida' '155752.6']\n",
      " ['120542.52' '148718.95' '311613.29' 'New York' '152211.77']\n",
      " ['123334.88' '108679.17' '304981.62' 'California' '149759.96']\n",
      " ['101913.08' '110594.11' '229160.95' 'Florida' '146121.95']\n",
      " ['100671.96' '91790.61' '249744.55' 'California' '144259.4']\n",
      " ['93863.75' '127320.38' '249839.44' 'Florida' '141585.52']\n",
      " ['91992.39' '135495.07' '252664.93' 'California' '134307.35']\n",
      " ['119943.24' '156547.42' '256512.92' 'Florida' '132602.65']\n",
      " ['114523.61' '122616.84' '261776.23' 'New York' '129917.04']\n",
      " ['78013.11' '121597.55' '264346.06' 'California' '126992.93']\n",
      " ['94657.16' '145077.58' '282574.31' 'New York' '125370.37']\n",
      " ['91749.16' '114175.79' '294919.57' 'Florida' '124266.9']\n",
      " ['86419.7' '153514.11' '0' 'New York' '122776.86']\n",
      " ['76253.86' '113867.3' '298664.47' 'California' '118474.03']\n",
      " ['78389.47' '153773.43' '299737.29' 'New York' '111313.02']\n",
      " ['73994.56' '122782.75' '303319.26' 'Florida' '110352.25']\n",
      " ['67532.53' '105751.03' '304768.73' 'Florida' '108733.99']\n",
      " ['77044.01' '99281.34' '140574.81' 'New York' '108552.04']\n",
      " ['64664.71' '139553.16' '137962.62' 'California' '107404.34']\n",
      " ['75328.87' '144135.98' '134050.07' 'Florida' '105733.54']\n",
      " ['72107.6' '127864.55' '353183.81' 'New York' '105008.31']\n",
      " ['66051.52' '182645.56' '118148.2' 'Florida' '103282.38']\n",
      " ['65605.48' '153032.06' '107138.38' 'New York' '101004.64']\n",
      " ['61994.48' '115641.28' '91131.24' 'Florida' '99937.59']\n",
      " ['61136.38' '152701.92' '88218.23' 'New York' '97483.56']\n",
      " ['63408.86' '129219.61' '46085.25' 'California' '97427.84']\n",
      " ['55493.95' '103057.49' '214634.81' 'Florida' '96778.92']\n",
      " ['46426.07' '157693.92' '210797.67' 'California' '96712.8']\n",
      " ['46014.02' '85047.44' '205517.64' 'New York' '96479.51']\n",
      " ['28663.76' '127056.21' '201126.82' 'Florida' '90708.19']\n",
      " ['44069.95' '51283.14' '197029.42' 'California' '89949.14']\n",
      " ['20229.59' '65947.93' '185265.1' 'New York' '81229.06']\n",
      " ['38558.51' '82982.09' '174999.3' 'California' '81005.76']\n",
      " ['28754.33' '118546.05' '172795.67' 'California' '78239.91']\n",
      " ['27892.92' '84710.77' '164470.71' 'Florida' '77798.83']\n",
      " ['23640.93' '96189.63' '148001.11' 'California' '71498.49']\n",
      " ['15505.73' '127382.3' '35534.17' 'New York' '69758.98']\n",
      " ['22177.74' '154806.14' '28334.72' 'California' '65200.33']\n",
      " ['1000.23' '124153.04' '1903.93' 'New York' '64926.08']\n",
      " ['1315.46' '115816.21' '297114.46' 'Florida' '49490.75']\n",
      " ['0' '135426.92' '0' 'California' '42559.73']\n",
      " ['542.05' '51743.15' '0' 'New York' '35673.41']\n",
      " ['0' '116983.8' '45173.06' 'California' '14681.4']]\n",
      "[165349.2  162597.7  153441.51 144372.41 142107.34 131876.9  134615.46\n",
      " 130298.13 120542.52 123334.88 101913.08 100671.96  93863.75  91992.39\n",
      " 119943.24 114523.61  78013.11  94657.16  91749.16  86419.7   76253.86\n",
      "  78389.47  73994.56  67532.53  77044.01  64664.71  75328.87  72107.6\n",
      "  66051.52  65605.48  61994.48  61136.38  63408.86  55493.95  46426.07\n",
      "  46014.02  28663.76  44069.95  20229.59  38558.51  28754.33  27892.92\n",
      "  23640.93  15505.73  22177.74   1000.23   1315.46      0.      542.05\n",
      "      0.  ]\n",
      "[136897.8  151377.59 101145.55 118671.85  91391.77  99814.71 147198.87\n",
      " 145530.06 148718.95 108679.17 110594.11  91790.61 127320.38 135495.07\n",
      " 156547.42 122616.84 121597.55 145077.58 114175.79 153514.11 113867.3\n",
      " 153773.43 122782.75 105751.03  99281.34 139553.16 144135.98 127864.55\n",
      " 182645.56 153032.06 115641.28 152701.92 129219.61 103057.49 157693.92\n",
      "  85047.44 127056.21  51283.14  65947.93  82982.09 118546.05  84710.77\n",
      "  96189.63 127382.3  154806.14 124153.04 115816.21 135426.92  51743.15\n",
      " 116983.8 ]\n",
      "[471784.1  443898.53 407934.54 383199.62 366168.42 362861.36 127716.82\n",
      " 323876.68 311613.29 304981.62 229160.95 249744.55 249839.44 252664.93\n",
      " 256512.92 261776.23 264346.06 282574.31 294919.57      0.   298664.47\n",
      " 299737.29 303319.26 304768.73 140574.81 137962.62 134050.07 353183.81\n",
      " 118148.2  107138.38  91131.24  88218.23  46085.25 214634.81 210797.67\n",
      " 205517.64 201126.82 197029.42 185265.1  174999.3  172795.67 164470.71\n",
      " 148001.11  35534.17  28334.72   1903.93 297114.46      0.        0.\n",
      "  45173.06]\n",
      "['New York' 'California' 'Florida' 'New York' 'Florida' 'New York'\n",
      " 'California' 'Florida' 'New York' 'California' 'Florida' 'California'\n",
      " 'Florida' 'California' 'Florida' 'New York' 'California' 'New York'\n",
      " 'Florida' 'New York' 'California' 'New York' 'Florida' 'Florida'\n",
      " 'New York' 'California' 'Florida' 'New York' 'Florida' 'New York'\n",
      " 'Florida' 'New York' 'California' 'Florida' 'California' 'New York'\n",
      " 'Florida' 'California' 'New York' 'California' 'California' 'Florida'\n",
      " 'California' 'New York' 'California' 'New York' 'Florida' 'California'\n",
      " 'New York' 'California']\n",
      "[192261.83 191792.06 191050.39 182901.99 166187.94 156991.12 156122.51\n",
      " 155752.6  152211.77 149759.96 146121.95 144259.4  141585.52 134307.35\n",
      " 132602.65 129917.04 126992.93 125370.37 124266.9  122776.86 118474.03\n",
      " 111313.02 110352.25 108733.99 108552.04 107404.34 105733.54 105008.31\n",
      " 103282.38 101004.64  99937.59  97483.56  97427.84  96778.92  96712.8\n",
      "  96479.51  90708.19  89949.14  81229.06  81005.76  78239.91  77798.83\n",
      "  71498.49  69758.98  65200.33  64926.08  49490.75  42559.73  35673.41\n",
      "  14681.4 ]\n"
     ]
    },
    {
     "data": {
      "text/plain": [
       "50"
      ]
     },
     "execution_count": 5,
     "metadata": {},
     "output_type": "execute_result"
    }
   ],
   "source": [
    "# Import data\n",
    "with open('50_Startups.csv') as csv_file:\n",
    "    readCSV = csv.reader(csv_file)\n",
    "    next(readCSV, None)\n",
    "    data1 = []\n",
    "    for row in readCSV:\n",
    "        data1.append(row)\n",
    "        \n",
    "data1 = np.array(data1)\n",
    "RandD = np.array(data1[:,0], dtype = np.float64)\n",
    "Admin = np.array(data1[:,1], dtype = np.float64)\n",
    "Market = np.array(data1[:,2], dtype = np.float64)\n",
    "State = np.array(data1[:,3])\n",
    "Profit = np.array(data1[:,4], dtype = np.float64)\n",
    "print(data1)\n",
    "print(RandD)\n",
    "print(Admin)\n",
    "print(Market)\n",
    "print(State)\n",
    "print(Profit)\n",
    "len(Profit)"
   ]
  },
  {
   "cell_type": "code",
   "execution_count": 7,
   "id": "b8b3554b",
   "metadata": {},
   "outputs": [
    {
     "name": "stdout",
     "output_type": "stream",
     "text": [
      "[1. 0. 0. 1. 0. 1. 0. 0. 1. 0. 0. 0. 0. 0. 0. 1. 0. 1. 0. 1. 0. 1. 0. 0.\n",
      " 1. 0. 0. 1. 0. 1. 0. 1. 0. 0. 0. 1. 0. 0. 1. 0. 0. 0. 0. 1. 0. 1. 0. 0.\n",
      " 1. 0.]\n",
      "[0. 0. 1. 0. 1. 0. 0. 1. 0. 0. 1. 0. 1. 0. 1. 0. 0. 0. 1. 0. 0. 0. 1. 1.\n",
      " 0. 0. 1. 0. 1. 0. 1. 0. 0. 1. 0. 0. 1. 0. 0. 0. 0. 1. 0. 0. 0. 0. 1. 0.\n",
      " 0. 0.]\n",
      "[0. 1. 0. 0. 0. 0. 1. 0. 0. 1. 0. 1. 0. 1. 0. 0. 1. 0. 0. 0. 1. 0. 0. 0.\n",
      " 0. 1. 0. 0. 0. 0. 0. 0. 1. 0. 1. 0. 0. 1. 0. 1. 1. 0. 1. 0. 1. 0. 0. 1.\n",
      " 0. 1.]\n"
     ]
    }
   ],
   "source": [
    "# Clean data\n",
    "\n",
    "# Create dummy for states\n",
    "NY = np.zeros(len(State))\n",
    "FL = np.zeros(len(State))\n",
    "CA = np.zeros(len(State))\n",
    "\n",
    "for i in range(len(State)):\n",
    "    if State[i] == 'New York':\n",
    "        NY[i] = 1\n",
    "    elif State[i] == 'Florida':\n",
    "        FL[i] = 1\n",
    "    else:\n",
    "        CA[i] = 1\n",
    "\n",
    "print(NY)\n",
    "print(FL)\n",
    "print(CA)"
   ]
  },
  {
   "cell_type": "code",
   "execution_count": 9,
   "id": "c5fb14b6",
   "metadata": {},
   "outputs": [],
   "source": [
    "# Stack and split the data\n",
    "x = np.stack((RandD, Admin, Market, NY, FL, CA), axis = 1)\n",
    "y = Profit\n",
    "x_train, x_test, y_train, y_test = train_test_split(x, y, test_size = 0.2, random_state = 42)\n",
    "print(x)"
   ]
  },
  {
   "cell_type": "code",
   "execution_count": 50,
   "id": "488a307f",
   "metadata": {},
   "outputs": [
    {
     "name": "stdout",
     "output_type": "stream",
     "text": [
      "40\n",
      "10\n"
     ]
    }
   ],
   "source": [
    "# Recheck train and test sets\n",
    "print(len(x_train))\n",
    "print(len(y_test))"
   ]
  },
  {
   "cell_type": "code",
   "execution_count": 51,
   "id": "903a9875",
   "metadata": {},
   "outputs": [
    {
     "name": "stdout",
     "output_type": "stream",
     "text": [
      "b0 = 54343.2998\n",
      "b1 = 0.8056\n",
      "b2 = -0.0688\n",
      "b3 = 0.0299\n",
      "b4 = -308.2725\n",
      "b5 = 623.5328\n",
      "b6 = -315.2603\n"
     ]
    }
   ],
   "source": [
    "# Run the linear regression model\n",
    "LR = LinearRegression()\n",
    "LR.fit(x_train, y_train)\n",
    "print('b0 = ' + \"{:.4f}\".format(LR.intercept_))\n",
    "for i in range(len(LR.coef_)):\n",
    "    print('b' + str(i+1) + ' = ' + \"{:.4f}\".format(LR.coef_[i]))"
   ]
  },
  {
   "cell_type": "code",
   "execution_count": 52,
   "id": "5ec76d50",
   "metadata": {},
   "outputs": [
    {
     "name": "stdout",
     "output_type": "stream",
     "text": [
      "[126362.87908255  84608.45383633  99677.49425146  46357.46068582\n",
      " 128750.48288505  50912.41741878 109741.35032702 100643.24281647\n",
      "  97599.27574593 113097.42524431]\n",
      "[134307.35  81005.76  99937.59  64926.08 125370.37  35673.41 105733.54\n",
      " 107404.34  97427.84 122776.86]\n"
     ]
    }
   ],
   "source": [
    "# Apply the model to the test set\n",
    "y_prediction = LR.predict(x_test)\n",
    "print(y_prediction)\n",
    "print(y_test)"
   ]
  },
  {
   "cell_type": "code",
   "execution_count": 8,
   "id": "c9ac3cd0",
   "metadata": {},
   "outputs": [
    {
     "name": "stdout",
     "output_type": "stream",
     "text": [
      "RMSE: 9055.9573\n",
      "MAPE: 10.2782%\n"
     ]
    }
   ],
   "source": [
    "# Accuracy indicators\n",
    "MSE = mean_squared_error(y_test, y_prediction)\n",
    "RMSE = np.sqrt(MSE)\n",
    "MAPE = mean_absolute_percentage_error(y_test, y_prediction)\n",
    "print('RMSE: ' + \"{:.4f}\".format(RMSE))\n",
    "print('MAPE: ' + \"{:.4f}\".format(MAPE*100)+'%')"
   ]
  }
 ],
 "metadata": {
  "kernelspec": {
   "display_name": "Python 3 (ipykernel)",
   "language": "python",
   "name": "python3"
  },
  "language_info": {
   "codemirror_mode": {
    "name": "ipython",
    "version": 3
   },
   "file_extension": ".py",
   "mimetype": "text/x-python",
   "name": "python",
   "nbconvert_exporter": "python",
   "pygments_lexer": "ipython3",
   "version": "3.10.9"
  }
 },
 "nbformat": 4,
 "nbformat_minor": 5
}
