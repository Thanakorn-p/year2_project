{
 "cells": [
  {
   "cell_type": "code",
   "execution_count": 1,
   "id": "9d16501b",
   "metadata": {
    "scrolled": true
   },
   "outputs": [
    {
     "name": "stdout",
     "output_type": "stream",
     "text": [
      "0\n",
      "1\n",
      "2\n",
      "3\n"
     ]
    }
   ],
   "source": [
    "#Example 3.1.1\n",
    "for k in range(4):\n",
    "    print(k)"
   ]
  },
  {
   "cell_type": "code",
   "execution_count": 2,
   "id": "8fd57be9",
   "metadata": {},
   "outputs": [
    {
     "name": "stdout",
     "output_type": "stream",
     "text": [
      "2\n",
      "3\n",
      "4\n",
      "5\n"
     ]
    }
   ],
   "source": [
    "#Example 3.1.2\n",
    "for x1 in range(2,6):\n",
    "    print(x1)"
   ]
  },
  {
   "cell_type": "code",
   "execution_count": 3,
   "id": "59a5365a",
   "metadata": {
    "scrolled": true
   },
   "outputs": [
    {
     "name": "stdout",
     "output_type": "stream",
     "text": [
      "2\n",
      "4\n"
     ]
    }
   ],
   "source": [
    "#Example 3.1.3\n",
    "for x2 in range(2,6,2):\n",
    "    print(x2)"
   ]
  },
  {
   "cell_type": "code",
   "execution_count": 4,
   "id": "16b04fe1",
   "metadata": {},
   "outputs": [
    {
     "name": "stdout",
     "output_type": "stream",
     "text": [
      "12\n",
      "9\n",
      "6\n",
      "3\n"
     ]
    }
   ],
   "source": [
    "#Example 3.1.4\n",
    "for x3 in range(12,0,-3):\n",
    "    print(x3)"
   ]
  },
  {
   "cell_type": "code",
   "execution_count": 5,
   "id": "1244d1b4",
   "metadata": {},
   "outputs": [],
   "source": [
    "#Example 3.1.5\n",
    "for a in range(5,5):\n",
    "    print(k)"
   ]
  },
  {
   "cell_type": "code",
   "execution_count": 6,
   "id": "bf60d6fa",
   "metadata": {},
   "outputs": [],
   "source": [
    "#Example 3.1.6\n",
    "for var in range(8,20,-2):\n",
    "    print(var)"
   ]
  },
  {
   "cell_type": "code",
   "execution_count": 7,
   "id": "100eac27",
   "metadata": {},
   "outputs": [
    {
     "name": "stdout",
     "output_type": "stream",
     "text": [
      "Person 1\n",
      "150\n",
      "Person 2\n",
      "123\n",
      "Person 3\n",
      "294\n",
      "Person 4\n",
      "290\n",
      "Person 5\n",
      "150\n",
      "average =  201.4\n"
     ]
    }
   ],
   "source": [
    "#Example 3.2\n",
    "aver_height = 0\n",
    "#ask for the user input\n",
    "for i in range(5) :\n",
    "    print('Person',i+1)\n",
    "    h = float(input())\n",
    "    aver_height += h #aver_height = aver_height + h\n",
    "print('average = ', (aver_height/5))"
   ]
  },
  {
   "cell_type": "code",
   "execution_count": 8,
   "id": "da334330",
   "metadata": {
    "scrolled": true
   },
   "outputs": [
    {
     "name": "stdout",
     "output_type": "stream",
     "text": [
      "out\n",
      "out\n",
      "in\n",
      "in\n"
     ]
    }
   ],
   "source": [
    "#Example 3.3.1\n",
    "for i in range(2):\n",
    "    print(\"out\")\n",
    "for j in range(2):\n",
    "    print(\"in\")"
   ]
  },
  {
   "cell_type": "code",
   "execution_count": 9,
   "id": "725f9d6e",
   "metadata": {
    "scrolled": true
   },
   "outputs": [
    {
     "name": "stdout",
     "output_type": "stream",
     "text": [
      "0 out\n",
      "0 in\n",
      "1 in\n",
      "1 out\n",
      "0 in\n",
      "1 in\n"
     ]
    }
   ],
   "source": [
    "for i in range(2):\n",
    "    print(i,\"out\")\n",
    "    for j in range(2):\n",
    "        print(j,\"in\")"
   ]
  },
  {
   "cell_type": "code",
   "execution_count": 10,
   "id": "8ca3ff8c",
   "metadata": {
    "scrolled": true
   },
   "outputs": [
    {
     "name": "stdout",
     "output_type": "stream",
     "text": [
      "0 out\n",
      "0 in\n",
      "xxxxxxx\n",
      "1 in\n",
      "xxxxxxx\n",
      "1 out\n",
      "0 in\n",
      "xxxxxxx\n",
      "1 in\n",
      "xxxxxxx\n"
     ]
    }
   ],
   "source": [
    "for i in range(2):\n",
    "    print(i,\"out\")\n",
    "    for j in range(2):\n",
    "        print(j,\"in\")\n",
    "        print(\"xxxxxxx\")"
   ]
  },
  {
   "cell_type": "code",
   "execution_count": 11,
   "id": "94a10bfd",
   "metadata": {
    "scrolled": true
   },
   "outputs": [
    {
     "name": "stdout",
     "output_type": "stream",
     "text": [
      "0 out\n",
      "0 in\n",
      "xxxxxxx\n",
      "1 in\n",
      "xxxxxxx\n",
      "1 out\n",
      "0 in\n",
      "xxxxxxx\n",
      "1 in\n",
      "xxxxxxx\n"
     ]
    }
   ],
   "source": [
    "for i in range(2):\n",
    "    print(i,\"out\")\n",
    "    for j in range(2):\n",
    "        print(j,\"in\")\n",
    "        print(\"xxxxxxx\")"
   ]
  },
  {
   "cell_type": "code",
   "execution_count": 12,
   "id": "f540d9d0",
   "metadata": {},
   "outputs": [
    {
     "name": "stdout",
     "output_type": "stream",
     "text": [
      "0\n",
      "1\n",
      "2\n",
      "3\n"
     ]
    }
   ],
   "source": [
    "#Example 3.4\n",
    "k = 0\n",
    "while k < 4:\n",
    "    print(k)\n",
    "    k += 1"
   ]
  },
  {
   "cell_type": "code",
   "execution_count": 13,
   "id": "705bb39f",
   "metadata": {
    "scrolled": true
   },
   "outputs": [
    {
     "name": "stdout",
     "output_type": "stream",
     "text": [
      "0\n",
      "1\n",
      "2\n",
      "3\n"
     ]
    }
   ],
   "source": [
    "#Example 3.4.1\n",
    "k = 0\n",
    "while True:\n",
    "    print (k)\n",
    "    k = k + 1\n",
    "    if k == 4:\n",
    "        break"
   ]
  },
  {
   "cell_type": "code",
   "execution_count": 14,
   "id": "697a194d",
   "metadata": {
    "scrolled": true
   },
   "outputs": [
    {
     "name": "stdout",
     "output_type": "stream",
     "text": [
      "Guess the secret number: 1\n",
      "Guess the secret number: 2\n",
      "Guess the secret number: 3\n",
      "Guess the secret number: 4\n",
      "Guess the secret number: 5\n",
      "Guess the secret number: 6\n",
      "Guess the secret number: 7\n",
      "You finally got it!\n"
     ]
    }
   ],
   "source": [
    "#Example 3.5\n",
    "from random import randint\n",
    "secret_num = randint(1,10)\n",
    "guess = 0\n",
    "while guess != secret_num:\n",
    "    guess = eval(input('Guess the secret number: '))\n",
    "print('You finally got it!')"
   ]
  },
  {
   "cell_type": "code",
   "execution_count": 16,
   "id": "9e7c5cbe",
   "metadata": {},
   "outputs": [
    {
     "name": "stdout",
     "output_type": "stream",
     "text": [
      "Guess the secret number: 10\n",
      "You finally got it!\n"
     ]
    }
   ],
   "source": [
    "#Example 3.5\n",
    "from random import randint\n",
    "secret_num = randint(1,10)\n",
    "guess = 0\n",
    "while True:\n",
    "    guess = eval(input('Guess the secret number: '))\n",
    "    if guess == secret_num:\n",
    "        break\n",
    "print('You finally got it!')"
   ]
  },
  {
   "cell_type": "code",
   "execution_count": 18,
   "id": "2721b5ff",
   "metadata": {},
   "outputs": [
    {
     "name": "stdout",
     "output_type": "stream",
     "text": [
      "Enter number: -1\n"
     ]
    }
   ],
   "source": [
    "# Example 3.6\n",
    "for i in range(10):\n",
    "    num = eval(input('Enter number: '))\n",
    "    if num < 0:\n",
    "        break"
   ]
  },
  {
   "cell_type": "code",
   "execution_count": 19,
   "id": "e3dae850",
   "metadata": {},
   "outputs": [
    {
     "name": "stdout",
     "output_type": "stream",
     "text": [
      "Enter number: 11\n",
      "Enter number: -0\n",
      "Enter number: -1\n",
      "Stopped early\n"
     ]
    }
   ],
   "source": [
    "# Example 3.7\n",
    "for i in range(10):\n",
    "    num = eval(input('Enter number: '))\n",
    "    if num<0:\n",
    "        print('Stopped early')\n",
    "        break\n",
    "else:\n",
    "    print('User entered all ten values') # if the forloop does not stop early, it is gonna print this one"
   ]
  },
  {
   "cell_type": "code",
   "execution_count": 20,
   "id": "ed1f351b",
   "metadata": {},
   "outputs": [
    {
     "name": "stdout",
     "output_type": "stream",
     "text": [
      "Enter the number:12\n",
      "Not prime\n"
     ]
    }
   ],
   "source": [
    "# Example 3.8\n",
    "num = eval(input('Enter the number:'))\n",
    "i = 2\n",
    "while i < num and num%i != 0:\n",
    "    i = i + 1\n",
    "if i == num:\n",
    "    print('Prime')\n",
    "else:\n",
    "    print('Not prime')"
   ]
  },
  {
   "cell_type": "code",
   "execution_count": 21,
   "id": "feb661ca",
   "metadata": {
    "scrolled": true
   },
   "outputs": [
    {
     "name": "stdout",
     "output_type": "stream",
     "text": [
      "List item 1 = a\n",
      "List item 2 = m\n",
      "List item 3 = o\n",
      "List item 4 = r\n",
      "List item 5 = n\n",
      "List item 6 = s\n",
      "List item 7 = a\n",
      "List item 8 = m\n",
      "List item 9 = a\n",
      "List item 10 = n\n",
      "List item 11 = k\n",
      "List item 12 = u\n",
      "List item 13 = l\n"
     ]
    }
   ],
   "source": [
    "# Example 3.9a\n",
    "s= 'amornsamankul'\n",
    "n = 1\n",
    "for i in s:\n",
    "    print('List item', n, '=',i)\n",
    "    n +=1"
   ]
  },
  {
   "cell_type": "code",
   "execution_count": 22,
   "id": "68fa0b3a",
   "metadata": {},
   "outputs": [
    {
     "name": "stdout",
     "output_type": "stream",
     "text": [
      "Amornsamankul"
     ]
    }
   ],
   "source": [
    "# Example 3.9b\n",
    "s='Amornsamankul'\n",
    "for i in s:\n",
    "    print(i, end='')\n",
    "# By default, the end parameter is set to '\\n', which means that a newline character \n",
    "# is printed at the end, causing the next print statement to start on a new line.\\\n",
    "# The end='' argument is used to specify that nothing should be printed \n",
    "# at the end of each character when using the print function.\n"
   ]
  },
  {
   "cell_type": "code",
   "execution_count": 23,
   "id": "c78407e5",
   "metadata": {},
   "outputs": [
    {
     "name": "stdout",
     "output_type": "stream",
     "text": [
      "1 is Odd number\n",
      "2 is Even number\n",
      "3 is Odd number\n",
      "4 is Even number\n",
      "5 is Odd number\n",
      "6 is Even number\n",
      "7 is Odd number\n",
      "8 is Even number\n",
      "9 is Odd number\n"
     ]
    }
   ],
   "source": [
    "#Example 3.10\n",
    "for i in range(1,10):\n",
    "    if i%2 == 0 :\n",
    "        print(i, 'is Even number')\n",
    "    else :\n",
    "        print(i, 'is Odd number')"
   ]
  },
  {
   "cell_type": "code",
   "execution_count": 24,
   "id": "9b2faf20",
   "metadata": {
    "scrolled": true
   },
   "outputs": [
    {
     "name": "stdout",
     "output_type": "stream",
     "text": [
      "+------------------------------------------+\n",
      " |  1   2   3   4   5   6   7   8   9  10  |\n",
      "+------------------------------------------+\n",
      " | 11  12  13  14  15  16  17  18  19  20  |\n",
      "+------------------------------------------+\n",
      " | 21  22  23  24  25  26  27  28  29  30  |\n",
      "+------------------------------------------+\n",
      " | 31  32  33  34  35  36  37  38  39  40  |\n",
      "+------------------------------------------+\n",
      " | 41  42  43  44  45  46  47  48  49  50  |\n",
      "+------------------------------------------+\n",
      " | 51  52  53  54  55  56  57  58  59  60  |\n",
      "+------------------------------------------+\n",
      " | 61  62  63  64  65  66  67  68  69  70  |\n",
      "+------------------------------------------+\n",
      " | 71  72  73  74  75  76  77  78  79  80  |\n",
      "+------------------------------------------+\n",
      " | 81  82  83  84  85  86  87  88  89  90  |\n",
      "+------------------------------------------+\n",
      " | 91  92  93  94  95  96  97  98  99  100 |\n",
      "+------------------------------------------+\n"
     ]
    }
   ],
   "source": [
    "#Example 3.11\n",
    "x = y = 0\n",
    "print('+------------------------------------------+')\n",
    "for row in range(1,11) :\n",
    "    print(' ', end = '')\n",
    "    print('|', end = '')\n",
    "    for column in range(1,11) :\n",
    "        y = x + column\n",
    "        print(' ', end = '')\n",
    "        if y < 10 :\n",
    "            print(end = ' ')\n",
    "        print(y, end=' ')\n",
    "    x = y\n",
    "    if y == 100:\n",
    "        print('|')\n",
    "    else:\n",
    "        print(' |')\n",
    "    print('+------------------------------------------+')"
   ]
  },
  {
   "cell_type": "code",
   "execution_count": 25,
   "id": "45761b92",
   "metadata": {},
   "outputs": [
    {
     "name": "stdout",
     "output_type": "stream",
     "text": [
      "Enter your phone number : 0909745454\n",
      "0909745454\n",
      "End of loop\n"
     ]
    }
   ],
   "source": [
    "# Example 3.12\n",
    "phone = input('Enter your phone number : ')\n",
    "for tel in phone:\n",
    "    if tel == '-' :\n",
    "        continue\n",
    "    print(tel, end = '')\n",
    "print('\\nEnd of loop')\n",
    "# If the character is a hyphen, it uses the continue statement to skip the current iteration\n",
    "# and move to the next character."
   ]
  }
 ],
 "metadata": {
  "kernelspec": {
   "display_name": "Python 3 (ipykernel)",
   "language": "python",
   "name": "python3"
  },
  "language_info": {
   "codemirror_mode": {
    "name": "ipython",
    "version": 3
   },
   "file_extension": ".py",
   "mimetype": "text/x-python",
   "name": "python",
   "nbconvert_exporter": "python",
   "pygments_lexer": "ipython3",
   "version": "3.10.9"
  }
 },
 "nbformat": 4,
 "nbformat_minor": 5
}
