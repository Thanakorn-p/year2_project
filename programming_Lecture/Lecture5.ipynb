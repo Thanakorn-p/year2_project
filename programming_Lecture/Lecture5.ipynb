{
 "cells": [
  {
   "cell_type": "code",
   "execution_count": 1,
   "id": "dcee6f3e",
   "metadata": {},
   "outputs": [
    {
     "name": "stdout",
     "output_type": "stream",
     "text": [
      "()\n"
     ]
    }
   ],
   "source": [
    "#Example 5.1.1\n",
    "tuple1 = ()\n",
    "print(tuple1)"
   ]
  },
  {
   "cell_type": "code",
   "execution_count": 2,
   "id": "b39365ce",
   "metadata": {},
   "outputs": [
    {
     "name": "stdout",
     "output_type": "stream",
     "text": [
      "(2, 4, 9)\n"
     ]
    }
   ],
   "source": [
    "#Example 5.1.2\n",
    "tuple2 = (2,4,9)\n",
    "print(tuple2)"
   ]
  },
  {
   "cell_type": "code",
   "execution_count": 3,
   "id": "eaffd674",
   "metadata": {},
   "outputs": [
    {
     "name": "stdout",
     "output_type": "stream",
     "text": [
      "('SCMA', [2, 4, 9])\n"
     ]
    }
   ],
   "source": [
    "#Example 5.1.3\n",
    "tuple3 = ('SCMA',[2,4,9])\n",
    "print(tuple3)"
   ]
  },
  {
   "cell_type": "code",
   "execution_count": 4,
   "id": "a87ac334",
   "metadata": {},
   "outputs": [
    {
     "name": "stdout",
     "output_type": "stream",
     "text": [
      "('SCMA', [2, 4, 9])\n"
     ]
    }
   ],
   "source": [
    "#Example 5.1.4\n",
    "tuple4 = 'SCMA',[2,4,9]\n",
    "print(tuple4)"
   ]
  },
  {
   "cell_type": "code",
   "execution_count": 5,
   "id": "eb4004ed",
   "metadata": {},
   "outputs": [
    {
     "name": "stdout",
     "output_type": "stream",
     "text": [
      "SCMA\n",
      "[2, 4, 9]\n"
     ]
    }
   ],
   "source": [
    "#Example 5.1.5\n",
    "a, b = tuple4\n",
    "print(a)\n",
    "print(b)"
   ]
  },
  {
   "cell_type": "code",
   "execution_count": 9,
   "id": "83591cde",
   "metadata": {},
   "outputs": [
    {
     "name": "stdout",
     "output_type": "stream",
     "text": [
      "<class 'str'>\n",
      "<class 'tuple'>\n"
     ]
    }
   ],
   "source": [
    "#Example 5.2\n",
    "mytuple = ('Computer Programming')\n",
    "print(type(mytuple))\n",
    "mytuple = ('Computer Programming',)\n",
    "print(type(mytuple))"
   ]
  },
  {
   "cell_type": "code",
   "execution_count": 10,
   "id": "effbb247",
   "metadata": {},
   "outputs": [
    {
     "name": "stdout",
     "output_type": "stream",
     "text": [
      "('S', 'C', 'M', 'A', ' ', '2', '4', '9')\n"
     ]
    }
   ],
   "source": [
    "#Example 5.3.1\n",
    "tuple5 = ('S', 'C', 'M', 'A', ' ', '2', '4', '9')\n",
    "print(tuple5)"
   ]
  },
  {
   "cell_type": "code",
   "execution_count": 11,
   "id": "196017af",
   "metadata": {},
   "outputs": [
    {
     "data": {
      "text/plain": [
       "'S'"
      ]
     },
     "execution_count": 11,
     "metadata": {},
     "output_type": "execute_result"
    }
   ],
   "source": [
    "#Example 5.3.2\n",
    "tuple5[0]"
   ]
  },
  {
   "cell_type": "code",
   "execution_count": 12,
   "id": "baab1a91",
   "metadata": {},
   "outputs": [
    {
     "data": {
      "text/plain": [
       "('2', '4', '9')"
      ]
     },
     "execution_count": 12,
     "metadata": {},
     "output_type": "execute_result"
    }
   ],
   "source": [
    "#Example 5.3.3\n",
    "tuple5[5:8]"
   ]
  },
  {
   "cell_type": "code",
   "execution_count": null,
   "id": "a0f9fca8",
   "metadata": {},
   "outputs": [],
   "source": [
    "#Example 5.3.4\n",
    "tuple5[-1]"
   ]
  },
  {
   "cell_type": "code",
   "execution_count": 13,
   "id": "8959c891",
   "metadata": {},
   "outputs": [
    {
     "data": {
      "text/plain": [
       "('2', '4', '9')"
      ]
     },
     "execution_count": 13,
     "metadata": {},
     "output_type": "execute_result"
    }
   ],
   "source": [
    "#Example 5.3.5\n",
    "tuple5[-3:]"
   ]
  },
  {
   "cell_type": "code",
   "execution_count": 14,
   "id": "2919ec79",
   "metadata": {},
   "outputs": [
    {
     "name": "stdout",
     "output_type": "stream",
     "text": [
      "[('A', 'S'), (2, 0, 1, 9), ('SC',)]\n"
     ]
    }
   ],
   "source": [
    "#Example 5.4.1\n",
    "l1 = [('A','S'),(2,0,1,9),('SC',)]\n",
    "print(l1)"
   ]
  },
  {
   "cell_type": "code",
   "execution_count": 15,
   "id": "9c241a47",
   "metadata": {},
   "outputs": [
    {
     "data": {
      "text/plain": [
       "(2, 0, 1, 9)"
      ]
     },
     "execution_count": 15,
     "metadata": {},
     "output_type": "execute_result"
    }
   ],
   "source": [
    "#Example 5.4.2\n",
    "l1[1]"
   ]
  },
  {
   "cell_type": "code",
   "execution_count": 16,
   "id": "d2b4fae8",
   "metadata": {},
   "outputs": [
    {
     "data": {
      "text/plain": [
       "9"
      ]
     },
     "execution_count": 16,
     "metadata": {},
     "output_type": "execute_result"
    }
   ],
   "source": [
    "#Example 5.4.3\n",
    "l1[1][3]"
   ]
  },
  {
   "cell_type": "code",
   "execution_count": 17,
   "id": "c15a0584",
   "metadata": {},
   "outputs": [
    {
     "ename": "TypeError",
     "evalue": "'tuple' object does not support item assignment",
     "output_type": "error",
     "traceback": [
      "\u001b[0;31m---------------------------------------------------------------------------\u001b[0m",
      "\u001b[0;31mTypeError\u001b[0m                                 Traceback (most recent call last)",
      "Cell \u001b[0;32mIn[17], line 1\u001b[0m\n\u001b[0;32m----> 1\u001b[0m l1[\u001b[38;5;241m1\u001b[39m][\u001b[38;5;241m3\u001b[39m] \u001b[38;5;241m=\u001b[39m \u001b[38;5;241m8\u001b[39m\n",
      "\u001b[0;31mTypeError\u001b[0m: 'tuple' object does not support item assignment"
     ]
    }
   ],
   "source": [
    "#Example 5.4.4\n",
    "l1[1][3] = 8"
   ]
  },
  {
   "cell_type": "code",
   "execution_count": 27,
   "id": "677e258c",
   "metadata": {},
   "outputs": [
    {
     "name": "stdout",
     "output_type": "stream",
     "text": [
      "(['A', 'S'], [2, 0, 1, 9], ['SC'])\n"
     ]
    }
   ],
   "source": [
    "#Example 5.5.1\n",
    "t1 = (['A','S'],[2,0,1,9],['SC'])\n",
    "print(t1)"
   ]
  },
  {
   "cell_type": "code",
   "execution_count": 28,
   "id": "fca2a97a",
   "metadata": {},
   "outputs": [
    {
     "data": {
      "text/plain": [
       "[2, 0, 1, 9]"
      ]
     },
     "execution_count": 28,
     "metadata": {},
     "output_type": "execute_result"
    }
   ],
   "source": [
    "t1[1]"
   ]
  },
  {
   "cell_type": "code",
   "execution_count": 29,
   "id": "b44d76c0",
   "metadata": {},
   "outputs": [
    {
     "data": {
      "text/plain": [
       "9"
      ]
     },
     "execution_count": 29,
     "metadata": {},
     "output_type": "execute_result"
    }
   ],
   "source": [
    "t1[1][3]"
   ]
  },
  {
   "cell_type": "code",
   "execution_count": 30,
   "id": "52575c83",
   "metadata": {},
   "outputs": [
    {
     "name": "stdout",
     "output_type": "stream",
     "text": [
      "(['A', 'S'], [2, 0, 1, 8], ['SC'])\n"
     ]
    }
   ],
   "source": [
    "t1[1][3] = 8\n",
    "print(t1)"
   ]
  },
  {
   "cell_type": "code",
   "execution_count": 24,
   "id": "77fbf3e3",
   "metadata": {},
   "outputs": [
    {
     "name": "stdout",
     "output_type": "stream",
     "text": [
      "('P', 'y', 't', 'h', 'o', 'n')\n",
      "('P', 'y', 't', 'h', 'o', 'n', 't', 'h', 'o', 'n', 't', 'h', 'o', 'n')\n",
      "('P', 'y', 't', 'h', 'o', 'n', 'P', 'y', 't', 'h', 'o', 'n', 'P', 'y', 't', 'h', 'o', 'n')\n"
     ]
    }
   ],
   "source": [
    "#Example 5.6\n",
    "#Concatenaion\n",
    "print(('P','y')+('t','h','o','n'))\n",
    "#Repeat\n",
    "print(('P','y')+('t','h','o','n')*3)\n",
    "print((('P','y')+('t','h','o','n'))*3)"
   ]
  },
  {
   "cell_type": "code",
   "execution_count": 31,
   "id": "2d059c01",
   "metadata": {
    "scrolled": true
   },
   "outputs": [
    {
     "ename": "NameError",
     "evalue": "name 't1' is not defined",
     "output_type": "error",
     "traceback": [
      "\u001b[0;31m---------------------------------------------------------------------------\u001b[0m",
      "\u001b[0;31mNameError\u001b[0m                                 Traceback (most recent call last)",
      "Cell \u001b[0;32mIn[31], line 3\u001b[0m\n\u001b[1;32m      1\u001b[0m \u001b[38;5;66;03m#Example 5.7\u001b[39;00m\n\u001b[1;32m      2\u001b[0m \u001b[38;5;28;01mdel\u001b[39;00m t1\n\u001b[0;32m----> 3\u001b[0m \u001b[38;5;28mprint\u001b[39m(\u001b[43mt1\u001b[49m)\n",
      "\u001b[0;31mNameError\u001b[0m: name 't1' is not defined"
     ]
    }
   ],
   "source": [
    "#Example 5.7\n",
    "del t1\n",
    "print(t1)"
   ]
  },
  {
   "cell_type": "code",
   "execution_count": 32,
   "id": "b1af45f3",
   "metadata": {},
   "outputs": [],
   "source": [
    "#Example 5.8\n",
    "t1 = ('s','u','n','t','a','r','e','e')"
   ]
  },
  {
   "cell_type": "code",
   "execution_count": 35,
   "id": "180789aa",
   "metadata": {},
   "outputs": [
    {
     "name": "stdout",
     "output_type": "stream",
     "text": [
      "2\n"
     ]
    }
   ],
   "source": [
    "#Example 5.8.1\n",
    "#count(x)-Return the number of items x\n",
    "print(t1.count('e'))"
   ]
  },
  {
   "cell_type": "code",
   "execution_count": 37,
   "id": "ec0e295a",
   "metadata": {},
   "outputs": [
    {
     "name": "stdout",
     "output_type": "stream",
     "text": [
      "2\n"
     ]
    }
   ],
   "source": [
    "#Example 5.8.2\n",
    "#index(x)-Return the index of the\n",
    "#first items that is equal to x\n",
    "print(t1.index('n'))"
   ]
  },
  {
   "cell_type": "code",
   "execution_count": 38,
   "id": "52ca9bb4",
   "metadata": {},
   "outputs": [
    {
     "name": "stdout",
     "output_type": "stream",
     "text": [
      "True\n"
     ]
    }
   ],
   "source": [
    "#Example 5.8.3\n",
    "#Membership test-test if an item exist\n",
    "#in a tuple or not, using the word “in”\n",
    "print('e' in t1)"
   ]
  },
  {
   "cell_type": "code",
   "execution_count": 39,
   "id": "6dbcea2e",
   "metadata": {},
   "outputs": [
    {
     "name": "stdout",
     "output_type": "stream",
     "text": [
      "False\n"
     ]
    }
   ],
   "source": [
    "#Example 5.8.4\n",
    "print('i' in t1)"
   ]
  },
  {
   "cell_type": "code",
   "execution_count": 41,
   "id": "7247dc87",
   "metadata": {},
   "outputs": [
    {
     "name": "stdout",
     "output_type": "stream",
     "text": [
      "Hello Atom !\n",
      "Hello Beam !\n",
      "Hello Pink !\n"
     ]
    }
   ],
   "source": [
    "#Example 5.8.5\n",
    "#Iterating through a tuple\n",
    "for name in ('Atom','Beam','Pink'):\n",
    "    print('Hello',name,'!')"
   ]
  },
  {
   "cell_type": "code",
   "execution_count": 4,
   "id": "915627c5",
   "metadata": {},
   "outputs": [
    {
     "name": "stdout",
     "output_type": "stream",
     "text": [
      "{'JAN': 31, 'FEB': 28, 'MAR': 31, 'APR': 30, 'MAY': 31, 'JUN': 30, 'JUL': 31, 'AUG': 31, 'SEP': 30, 'OCT': 31, 'NOV': 30, 'DEC': 31}\n"
     ]
    }
   ],
   "source": [
    "#Example 5.9\n",
    "days = {'JAN':31, 'FEB':28, 'MAR':31, 'APR':30,\n",
    "'MAY':31, 'JUN':30, 'JUL':31, 'AUG':31,\n",
    "'SEP':30, 'OCT':31, 'NOV':30, 'DEC':31}\n",
    "print(days)"
   ]
  },
  {
   "cell_type": "code",
   "execution_count": 5,
   "id": "b2f4fb9e",
   "metadata": {},
   "outputs": [
    {
     "name": "stdout",
     "output_type": "stream",
     "text": [
      "{'pi': 3.14, '22/7': 3.14, 2.99: [2, 9, 9], (2, 4, 9): 249}\n"
     ]
    }
   ],
   "source": [
    "#Example 5.10\n",
    "mydict = {}\n",
    "mydict['pi'] = 3.14\n",
    "mydict['22/7'] = 3.14\n",
    "mydict[2.99] = [2,9,9]\n",
    "mydict[(2,4,9)] = 249\n",
    "print(mydict)"
   ]
  },
  {
   "cell_type": "code",
   "execution_count": 6,
   "id": "ce9e400e",
   "metadata": {},
   "outputs": [
    {
     "name": "stdout",
     "output_type": "stream",
     "text": [
      "31\n"
     ]
    }
   ],
   "source": [
    "#Example 5.11.1\n",
    "print(days['JAN'])"
   ]
  },
  {
   "cell_type": "code",
   "execution_count": 7,
   "id": "5ad33fb1",
   "metadata": {},
   "outputs": [
    {
     "name": "stdout",
     "output_type": "stream",
     "text": [
      "3.14\n"
     ]
    }
   ],
   "source": [
    "#Example 5.11.2\n",
    "print(mydict['pi'])"
   ]
  },
  {
   "cell_type": "code",
   "execution_count": 8,
   "id": "eb83df00",
   "metadata": {},
   "outputs": [
    {
     "name": "stdout",
     "output_type": "stream",
     "text": [
      "249\n"
     ]
    }
   ],
   "source": [
    "#Example 5.11.3\n",
    "print(mydict[(2,4,9)])"
   ]
  },
  {
   "cell_type": "code",
   "execution_count": 9,
   "id": "25858690",
   "metadata": {},
   "outputs": [
    {
     "ename": "KeyError",
     "evalue": "3.142857142857143",
     "output_type": "error",
     "traceback": [
      "\u001b[0;31m---------------------------------------------------------------------------\u001b[0m",
      "\u001b[0;31mKeyError\u001b[0m                                  Traceback (most recent call last)",
      "Cell \u001b[0;32mIn[9], line 2\u001b[0m\n\u001b[1;32m      1\u001b[0m \u001b[38;5;66;03m#Example 5.11.4\u001b[39;00m\n\u001b[0;32m----> 2\u001b[0m \u001b[38;5;28mprint\u001b[39m(\u001b[43mmydict\u001b[49m\u001b[43m[\u001b[49m\u001b[38;5;241;43m22\u001b[39;49m\u001b[38;5;241;43m/\u001b[39;49m\u001b[38;5;241;43m7\u001b[39;49m\u001b[43m]\u001b[49m)\n",
      "\u001b[0;31mKeyError\u001b[0m: 3.142857142857143"
     ]
    }
   ],
   "source": [
    "#Example 5.11.4\n",
    "print(mydict[22/7])"
   ]
  },
  {
   "cell_type": "code",
   "execution_count": 10,
   "id": "7eba689a",
   "metadata": {},
   "outputs": [
    {
     "name": "stdout",
     "output_type": "stream",
     "text": [
      "None\n"
     ]
    }
   ],
   "source": [
    "#Example 5.11.5\n",
    "print(mydict.get(22/7))"
   ]
  },
  {
   "cell_type": "code",
   "execution_count": 53,
   "id": "665719f8",
   "metadata": {},
   "outputs": [
    {
     "name": "stdout",
     "output_type": "stream",
     "text": [
      "{'pi': 3.14, '22/7': 3.14, 2.99: [2, 9, 9], (2, 4, 9): 249, 'ADD': 'add the element to dict'}\n"
     ]
    }
   ],
   "source": [
    "#Example 5.12.1\n",
    "#Add the element\n",
    "mydict['ADD'] = 'add the element to dict'\n",
    "print(mydict)"
   ]
  },
  {
   "cell_type": "code",
   "execution_count": 54,
   "id": "593847b8",
   "metadata": {},
   "outputs": [
    {
     "name": "stdout",
     "output_type": "stream",
     "text": [
      "{'pi': 3.142857142857143, '22/7': 3.14, 2.99: [2, 9, 9], (2, 4, 9): 249, 'ADD': 'add the element to dict'}\n"
     ]
    }
   ],
   "source": [
    "#Example 5.12.2\n",
    "#Change the element\n",
    "mydict['pi'] = 22/7\n",
    "print(mydict)"
   ]
  },
  {
   "cell_type": "code",
   "execution_count": 56,
   "id": "bca07178",
   "metadata": {},
   "outputs": [
    {
     "name": "stdout",
     "output_type": "stream",
     "text": [
      "{'pi': 3.142857142857143, '22/7': 3.14, 2.99: [2, 9, 9], (2, 4, 9): 249}\n"
     ]
    }
   ],
   "source": [
    "#Delete the element we added in Example\n",
    "#5.12.1 from mydict\n",
    "del mydict['ADD']\n",
    "print(mydict)"
   ]
  },
  {
   "cell_type": "code",
   "execution_count": 57,
   "id": "ddccf692",
   "metadata": {},
   "outputs": [
    {
     "ename": "NameError",
     "evalue": "name 'mydict' is not defined",
     "output_type": "error",
     "traceback": [
      "\u001b[0;31m---------------------------------------------------------------------------\u001b[0m",
      "\u001b[0;31mNameError\u001b[0m                                 Traceback (most recent call last)",
      "Cell \u001b[0;32mIn[57], line 3\u001b[0m\n\u001b[1;32m      1\u001b[0m \u001b[38;5;66;03m#Delete a dictionary mydict\u001b[39;00m\n\u001b[1;32m      2\u001b[0m \u001b[38;5;28;01mdel\u001b[39;00m mydict\n\u001b[0;32m----> 3\u001b[0m \u001b[38;5;28mprint\u001b[39m(\u001b[43mmydict\u001b[49m)\n",
      "\u001b[0;31mNameError\u001b[0m: name 'mydict' is not defined"
     ]
    }
   ],
   "source": [
    "#Delete a dictionary mydict\n",
    "del mydict\n",
    "print(mydict)"
   ]
  },
  {
   "cell_type": "code",
   "execution_count": 61,
   "id": "e29418e4",
   "metadata": {
    "scrolled": false
   },
   "outputs": [
    {
     "name": "stdout",
     "output_type": "stream",
     "text": [
      "Enter number of student:2\n",
      "Please enter the information of student 1\n",
      "Enter student ID: 43524\n",
      "Enter name:Thanakorn\n",
      "Enter lastname:Pongritsakda\n",
      "Enter phone number:0909745454\n",
      "Enter e-mail address:tpongritsakdawork@gmail.com\n",
      "Enter nickname:Phu\n",
      "Thank you!\n",
      "\n",
      "Please enter the information of student 2\n",
      "Enter student ID: 43525\n",
      "Enter name:Teeradol\n",
      "Enter lastname:Sinpanee\n",
      "Enter phone number:0846402850\n",
      "Enter e-mail address:poohbear.tee@gmail.com \n",
      "Enter nickname:Meepooh\n",
      "Thank you!\n",
      "\n",
      "{'43524': ['Thanakorn', 'Pongritsakda', 'Phu', '0909745454', 'tpongritsakdawork@gmail.com'], '43525': ['Teeradol', 'Sinpanee', 'Meepooh', '0846402850', 'poohbear.tee@gmail.com ']}\n"
     ]
    }
   ],
   "source": [
    "#Example 5.14\n",
    "n = int (input('Enter number of student:')) \n",
    "slist = {}\n",
    "for i in range (0,n):\n",
    "    print('Please enter the information of student', i+1)\n",
    "    sid = str(input('Enter student ID: ')) \n",
    "    sname = input('Enter name:')\n",
    "    slast = input('Enter lastname:')\n",
    "    stel = str(input('Enter phone number:')) \n",
    "    smail = input ('Enter e-mail address:')\n",
    "    snick = input ('Enter nickname:') \n",
    "    slist[sid] = [sname, slast, snick, stel, smail] \n",
    "    print ('Thank you!\\n')\n",
    "    \n",
    "print (slist)"
   ]
  },
  {
   "cell_type": "code",
   "execution_count": 34,
   "id": "cd4888ed",
   "metadata": {},
   "outputs": [
    {
     "name": "stdout",
     "output_type": "stream",
     "text": [
      "{1, 2, 3}\n",
      "{}\n"
     ]
    }
   ],
   "source": [
    "#Example 5.15.1\n",
    "s1 = {1,2,3}\n",
    "print(s1)"
   ]
  },
  {
   "cell_type": "code",
   "execution_count": 31,
   "id": "238b7ab7",
   "metadata": {},
   "outputs": [
    {
     "name": "stdout",
     "output_type": "stream",
     "text": [
      "{'t', 'h', 'r', 'e'}\n"
     ]
    }
   ],
   "source": [
    "#Example 5.15.2\n",
    "s2 = {'t','h','r','e','e'}\n",
    "print(s2)"
   ]
  },
  {
   "cell_type": "code",
   "execution_count": 30,
   "id": "ed920848",
   "metadata": {},
   "outputs": [
    {
     "name": "stdout",
     "output_type": "stream",
     "text": [
      "{'t', 1, 2, 'h'}\n"
     ]
    }
   ],
   "source": [
    "#Example 5.15.3\n",
    "s3 = set({1,2,'t','h'})\n",
    "print(s3)"
   ]
  },
  {
   "cell_type": "code",
   "execution_count": 66,
   "id": "b2ef243c",
   "metadata": {},
   "outputs": [
    {
     "name": "stdout",
     "output_type": "stream",
     "text": [
      "{1, 4, 5}\n"
     ]
    }
   ],
   "source": [
    "#Example 5.15.4\n",
    "s4 = set([1,4,4,4,5,1])\n",
    "print(s4)"
   ]
  },
  {
   "cell_type": "code",
   "execution_count": 45,
   "id": "11ea3478",
   "metadata": {},
   "outputs": [
    {
     "name": "stdout",
     "output_type": "stream",
     "text": [
      "{'t', 'h', 'i', 'a', 'e', 'T', ' ', 's', '.'}\n"
     ]
    }
   ],
   "source": [
    "#Example 5.15.5\n",
    "print(set('This is a test.'))"
   ]
  },
  {
   "cell_type": "code",
   "execution_count": 48,
   "id": "970d70ba",
   "metadata": {},
   "outputs": [],
   "source": [
    "x = {3,4,5}\n",
    "y = {1,2,3,4,5}"
   ]
  },
  {
   "cell_type": "code",
   "execution_count": 49,
   "id": "f244d70f",
   "metadata": {},
   "outputs": [
    {
     "name": "stdout",
     "output_type": "stream",
     "text": [
      "{1, 2, 3, 4, 5}\n"
     ]
    }
   ],
   "source": [
    "print(x|y)\n",
    "#x.union(y) #Same meaning"
   ]
  },
  {
   "cell_type": "code",
   "execution_count": 50,
   "id": "32ce4e99",
   "metadata": {},
   "outputs": [
    {
     "name": "stdout",
     "output_type": "stream",
     "text": [
      "{3, 4, 5}\n"
     ]
    }
   ],
   "source": [
    "print(x & y)\n",
    "#x.intersection(y)"
   ]
  },
  {
   "cell_type": "code",
   "execution_count": 51,
   "id": "9ed1f683",
   "metadata": {},
   "outputs": [
    {
     "name": "stdout",
     "output_type": "stream",
     "text": [
      "set()\n"
     ]
    }
   ],
   "source": [
    "print(x - y)\n",
    "#x.difference(y)"
   ]
  },
  {
   "cell_type": "code",
   "execution_count": 52,
   "id": "2ab5fd7e",
   "metadata": {},
   "outputs": [
    {
     "name": "stdout",
     "output_type": "stream",
     "text": [
      "{1, 2}\n"
     ]
    }
   ],
   "source": [
    "print(x ^ y)\n",
    "#Returns the symmetric difference\n",
    "#of sets x and y (the elements\n",
    "#belonging to either x or y, but not\n",
    "#to both sets simultaneously).\n",
    "#Mathematically, (x ∪ y) – (x ∩ y)."
   ]
  },
  {
   "cell_type": "code",
   "execution_count": 53,
   "id": "c7c337a3",
   "metadata": {},
   "outputs": [
    {
     "name": "stdout",
     "output_type": "stream",
     "text": [
      "True\n"
     ]
    }
   ],
   "source": [
    "print(x <= y)\n",
    "# x.issubset(y)"
   ]
  },
  {
   "cell_type": "code",
   "execution_count": 54,
   "id": "577d62b9",
   "metadata": {},
   "outputs": [
    {
     "name": "stdout",
     "output_type": "stream",
     "text": [
      "True\n"
     ]
    }
   ],
   "source": [
    "print(3 in y)\n",
    "#t in y (Check if t is an element of y)"
   ]
  }
 ],
 "metadata": {
  "kernelspec": {
   "display_name": "Python 3 (ipykernel)",
   "language": "python",
   "name": "python3"
  },
  "language_info": {
   "codemirror_mode": {
    "name": "ipython",
    "version": 3
   },
   "file_extension": ".py",
   "mimetype": "text/x-python",
   "name": "python",
   "nbconvert_exporter": "python",
   "pygments_lexer": "ipython3",
   "version": "3.10.9"
  }
 },
 "nbformat": 4,
 "nbformat_minor": 5
}
