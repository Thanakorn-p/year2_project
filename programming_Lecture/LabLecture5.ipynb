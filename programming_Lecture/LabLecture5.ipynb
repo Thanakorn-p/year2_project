{
 "cells": [
  {
   "cell_type": "code",
   "execution_count": 7,
   "id": "29c2e2df",
   "metadata": {},
   "outputs": [],
   "source": [
    "from gekko import GEKKO\n",
    "import numpy as np"
   ]
  },
  {
   "cell_type": "code",
   "execution_count": 10,
   "id": "4699f23c",
   "metadata": {},
   "outputs": [
    {
     "name": "stdout",
     "output_type": "stream",
     "text": [
      "Objective:  18000.0\n",
      "x:  [20.0]\n",
      "y:  [60.0]\n"
     ]
    }
   ],
   "source": [
    "# Insurance company problem\n",
    "\n",
    "m = GEKKO(remote=False)\n",
    "\n",
    "# Set up decision variables\n",
    "x = m.Var(lb=0, ub=40, integer=False)\n",
    "y = m.Var(lb=0, integer=False)\n",
    "\n",
    "# Set up the objective function\n",
    "m.Maximize(300*x+200*y)\n",
    "\n",
    "# Set up constraints\n",
    "m.Equation(2*x+y <= 100)\n",
    "m.Equation(x+y <= 80)\n",
    "\n",
    "# Solve for the optimal solution\n",
    "m.options.SOLVER=1\n",
    "m.solve(disp=False)\n",
    "print('Objective: ', -m.options.OBJFCNVAL)\n",
    "print('x: ', x.value)\n",
    "print('y: ', y.value)"
   ]
  },
  {
   "cell_type": "code",
   "execution_count": 4,
   "id": "5ab0b8f6",
   "metadata": {},
   "outputs": [
    {
     "name": "stdout",
     "output_type": "stream",
     "text": [
      "Objective:  6650.0\n",
      "x:  [[0.0], [400.0], [150.0], [400.0]]\n"
     ]
    }
   ],
   "source": [
    "# SensorCo Problem\n",
    "\n",
    "m = GEKKO(remote=False)\n",
    "\n",
    "# Set up decision variables\n",
    "x = [m.Var(lb=0, integer=False) for i in range(4)]\n",
    "\n",
    "# Set up parameters\n",
    "raw_mat = np.array([2,3,4,7])\n",
    "labor = np.array([3,4,5,6])\n",
    "price = np.array([4,6,7,8])\n",
    "\n",
    "# Set up the objective function\n",
    "m.Maximize(sum(x*price))\n",
    "\n",
    "# Set up constraints\n",
    "m.Equation(sum(x*raw_mat)<=4600)\n",
    "m.Equation(sum(x*labor)<=5000)\n",
    "m.Equation(sum(x)==950)\n",
    "m.Equation(x[3]>=400)\n",
    "\n",
    "# Solve for the optimal solution\n",
    "m.options.SOLVER=1\n",
    "m.solve(disp=False)\n",
    "print('Objective: ', -m.options.OBJFCNVAL)\n",
    "print('x: ',x)"
   ]
  }
 ],
 "metadata": {
  "kernelspec": {
   "display_name": "Python 3 (ipykernel)",
   "language": "python",
   "name": "python3"
  },
  "language_info": {
   "codemirror_mode": {
    "name": "ipython",
    "version": 3
   },
   "file_extension": ".py",
   "mimetype": "text/x-python",
   "name": "python",
   "nbconvert_exporter": "python",
   "pygments_lexer": "ipython3",
   "version": "3.10.9"
  }
 },
 "nbformat": 4,
 "nbformat_minor": 5
}
