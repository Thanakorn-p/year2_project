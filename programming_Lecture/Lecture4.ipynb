{
 "cells": [
  {
   "cell_type": "code",
   "execution_count": 6,
   "id": "945bdcf2",
   "metadata": {},
   "outputs": [],
   "source": [
    "#Example 4.1\n",
    "txt1 = 'Actuarial Science'\n",
    "txt2 = \"Computer Programming\"\n",
    "txt3 = \"\"\"I wanna create a very long string in Python by enclosing\n",
    "it in triple-quote. It will be spread across multiple lines.\"\"\"\n",
    "txt4 = 'I\\'m a student in an actuarial science program.'"
   ]
  },
  {
   "cell_type": "code",
   "execution_count": 7,
   "id": "5ff18551",
   "metadata": {},
   "outputs": [
    {
     "name": "stdout",
     "output_type": "stream",
     "text": [
      "I wanna create a very long string in Python by enclosing\n",
      "it in triple-quote. It will be spread across multiple lines.\n",
      "I'm a student in an actuarial science program.\n"
     ]
    }
   ],
   "source": [
    "print(txt3)\n",
    "print(txt4)"
   ]
  },
  {
   "cell_type": "code",
   "execution_count": 2,
   "id": "62bcc3c3",
   "metadata": {},
   "outputs": [
    {
     "data": {
      "text/plain": [
       "17"
      ]
     },
     "execution_count": 2,
     "metadata": {},
     "output_type": "execute_result"
    }
   ],
   "source": [
    "#Example 4.2.1\n",
    "len(txt1)"
   ]
  },
  {
   "cell_type": "code",
   "execution_count": 3,
   "id": "484e6c90",
   "metadata": {},
   "outputs": [
    {
     "data": {
      "text/plain": [
       "20"
      ]
     },
     "execution_count": 3,
     "metadata": {},
     "output_type": "execute_result"
    }
   ],
   "source": [
    "#Example 4.2.2\n",
    "len(txt2)"
   ]
  },
  {
   "cell_type": "code",
   "execution_count": 8,
   "id": "711f2df5",
   "metadata": {},
   "outputs": [
    {
     "data": {
      "text/plain": [
       "117"
      ]
     },
     "execution_count": 8,
     "metadata": {},
     "output_type": "execute_result"
    }
   ],
   "source": [
    "#Example 4.2.3\n",
    "len(txt3)"
   ]
  },
  {
   "cell_type": "code",
   "execution_count": 9,
   "id": "2d888356",
   "metadata": {},
   "outputs": [
    {
     "data": {
      "text/plain": [
       "46"
      ]
     },
     "execution_count": 9,
     "metadata": {},
     "output_type": "execute_result"
    }
   ],
   "source": [
    "#Example 4.2.4\n",
    "len(txt4)"
   ]
  },
  {
   "cell_type": "code",
   "execution_count": 10,
   "id": "e84d8edc",
   "metadata": {},
   "outputs": [
    {
     "name": "stdout",
     "output_type": "stream",
     "text": [
      "SCMA 249\n"
     ]
    }
   ],
   "source": [
    "#Example 4.3.1\n",
    "print('SCMA' + ' 249')"
   ]
  },
  {
   "cell_type": "code",
   "execution_count": 11,
   "id": "ca2af9b1",
   "metadata": {},
   "outputs": [
    {
     "name": "stdout",
     "output_type": "stream",
     "text": [
      "SCMA 249 Semester 1\n"
     ]
    }
   ],
   "source": [
    "#Example 4.3.2 \n",
    "print('SCMA' + ' 249' + ' Semester 1')"
   ]
  },
  {
   "cell_type": "code",
   "execution_count": 12,
   "id": "8ab30a68",
   "metadata": {},
   "outputs": [
    {
     "name": "stdout",
     "output_type": "stream",
     "text": [
      "AAAAAAAAAA\n"
     ]
    }
   ],
   "source": [
    "#Example 4.3.3\n",
    "print('A' * 10)"
   ]
  },
  {
   "cell_type": "code",
   "execution_count": 13,
   "id": "a6137209",
   "metadata": {},
   "outputs": [
    {
     "name": "stdout",
     "output_type": "stream",
     "text": [
      "BKK\n"
     ]
    }
   ],
   "source": [
    "#Example 4.3.4\n",
    "print('B' + 'K'*2)"
   ]
  },
  {
   "cell_type": "code",
   "execution_count": 10,
   "id": "652b4bc0",
   "metadata": {},
   "outputs": [
    {
     "name": "stdout",
     "output_type": "stream",
     "text": [
      "Please enter your ID card number.\n",
      "Digit1:1\n",
      "Digit2:1\n",
      "Digit3:0\n",
      "Digit4:3\n",
      "Digit5:4\n",
      "Digit6:2\n",
      "Digit7:4\n",
      "Digit8:5\n",
      "Digit9:2\n",
      "Digit10:4\n",
      "Digit11:3\n",
      "Digit12:2\n",
      "Digit13:5\n",
      "1103424524325\n"
     ]
    }
   ],
   "source": [
    "# Example 4.4\n",
    "print('Please enter your ID card number.')\n",
    "#create an empty string\n",
    "id_no = ''\n",
    "for i in range(13):\n",
    "    txt = 'Digit' + str(1+i) + ':'\n",
    "    d = input(txt)\n",
    "    id_no += d\n",
    "print(id_no)"
   ]
  },
  {
   "cell_type": "code",
   "execution_count": 15,
   "id": "a6024fd1",
   "metadata": {},
   "outputs": [],
   "source": [
    "#Example 4.5\n",
    "s = 'EXAMPLE 4.5'"
   ]
  },
  {
   "cell_type": "code",
   "execution_count": 16,
   "id": "efe29de9",
   "metadata": {},
   "outputs": [
    {
     "name": "stdout",
     "output_type": "stream",
     "text": [
      "E\n"
     ]
    }
   ],
   "source": [
    "#Example 4.5.1\n",
    "print(s[0])"
   ]
  },
  {
   "cell_type": "code",
   "execution_count": 17,
   "id": "8eb97516",
   "metadata": {},
   "outputs": [
    {
     "name": "stdout",
     "output_type": "stream",
     "text": [
      "E\n"
     ]
    }
   ],
   "source": [
    "#Example 4.5.2\n",
    "print(s[-11])"
   ]
  },
  {
   "cell_type": "code",
   "execution_count": 18,
   "id": "508831ba",
   "metadata": {},
   "outputs": [
    {
     "name": "stdout",
     "output_type": "stream",
     "text": [
      "E\n"
     ]
    }
   ],
   "source": [
    "#Example 4.5.3\n",
    "print(s[-len(s)])"
   ]
  },
  {
   "cell_type": "code",
   "execution_count": 19,
   "id": "151f9434",
   "metadata": {},
   "outputs": [
    {
     "name": "stdout",
     "output_type": "stream",
     "text": [
      "M M\n"
     ]
    }
   ],
   "source": [
    "#Example 4.5.4\n",
    "#To get the character M in s, the code is \n",
    "print(s[3],s[-8])"
   ]
  },
  {
   "cell_type": "code",
   "execution_count": 20,
   "id": "8bab39c4",
   "metadata": {},
   "outputs": [
    {
     "name": "stdout",
     "output_type": "stream",
     "text": [
      "4 4\n"
     ]
    }
   ],
   "source": [
    "#Example 4.5.5\n",
    "#To get the character 4 in s, the code is\n",
    "print(s[8],s[-3])"
   ]
  },
  {
   "cell_type": "code",
   "execution_count": 22,
   "id": "b0ef4e95",
   "metadata": {},
   "outputs": [],
   "source": [
    "#Example 4.6\n",
    "s1 = '0123456789'"
   ]
  },
  {
   "cell_type": "code",
   "execution_count": 24,
   "id": "5bf2e14e",
   "metadata": {},
   "outputs": [
    {
     "name": "stdout",
     "output_type": "stream",
     "text": [
      "2345\n"
     ]
    }
   ],
   "source": [
    "print(s1[2:6])"
   ]
  },
  {
   "cell_type": "code",
   "execution_count": 25,
   "id": "0352b019",
   "metadata": {},
   "outputs": [
    {
     "name": "stdout",
     "output_type": "stream",
     "text": [
      "012\n"
     ]
    }
   ],
   "source": [
    "print(s1[:3])"
   ]
  },
  {
   "cell_type": "code",
   "execution_count": 26,
   "id": "d21b57f7",
   "metadata": {},
   "outputs": [
    {
     "name": "stdout",
     "output_type": "stream",
     "text": [
      "3456789\n"
     ]
    }
   ],
   "source": [
    "print(s1[3:])"
   ]
  },
  {
   "cell_type": "code",
   "execution_count": 27,
   "id": "e4a0b6dd",
   "metadata": {
    "scrolled": true
   },
   "outputs": [
    {
     "name": "stdout",
     "output_type": "stream",
     "text": [
      "789\n"
     ]
    }
   ],
   "source": [
    "print(s1[-3:])"
   ]
  },
  {
   "cell_type": "code",
   "execution_count": 28,
   "id": "98c36a29",
   "metadata": {},
   "outputs": [
    {
     "name": "stdout",
     "output_type": "stream",
     "text": [
      "0123456789\n"
     ]
    }
   ],
   "source": [
    "print(s1[:])"
   ]
  },
  {
   "cell_type": "code",
   "execution_count": 29,
   "id": "9144838b",
   "metadata": {},
   "outputs": [
    {
     "name": "stdout",
     "output_type": "stream",
     "text": [
      "0123456789\n"
     ]
    }
   ],
   "source": [
    "print(s1[0:])"
   ]
  },
  {
   "cell_type": "code",
   "execution_count": 30,
   "id": "ab5f501b",
   "metadata": {},
   "outputs": [
    {
     "name": "stdout",
     "output_type": "stream",
     "text": [
      "0123456789\n"
     ]
    }
   ],
   "source": [
    "print(s1[:len(s1)])"
   ]
  },
  {
   "cell_type": "code",
   "execution_count": 31,
   "id": "c1a4a34c",
   "metadata": {},
   "outputs": [
    {
     "name": "stdout",
     "output_type": "stream",
     "text": [
      "56789\n"
     ]
    }
   ],
   "source": [
    "#Pick the character indices 5 to 12\n",
    "print(s1[5:13])"
   ]
  },
  {
   "cell_type": "code",
   "execution_count": 32,
   "id": "cb1ddbaf",
   "metadata": {},
   "outputs": [
    {
     "name": "stdout",
     "output_type": "stream",
     "text": [
      "3456\n"
     ]
    }
   ],
   "source": [
    "#slice by using the negative indices\n",
    "print(s1[-7:-3])"
   ]
  },
  {
   "cell_type": "code",
   "execution_count": 33,
   "id": "bd0e75cc",
   "metadata": {
    "scrolled": true
   },
   "outputs": [
    {
     "name": "stdout",
     "output_type": "stream",
     "text": [
      "2468\n"
     ]
    }
   ],
   "source": [
    "#Example 4.7\n",
    "print(s1[2:10:2])"
   ]
  },
  {
   "cell_type": "code",
   "execution_count": 34,
   "id": "e9398a05",
   "metadata": {},
   "outputs": [
    {
     "name": "stdout",
     "output_type": "stream",
     "text": [
      "02468\n"
     ]
    }
   ],
   "source": [
    "print(s1[::2])"
   ]
  },
  {
   "cell_type": "code",
   "execution_count": 35,
   "id": "79e8a9af",
   "metadata": {},
   "outputs": [
    {
     "name": "stdout",
     "output_type": "stream",
     "text": [
      "13579\n"
     ]
    }
   ],
   "source": [
    "print(s1[1::2])"
   ]
  },
  {
   "cell_type": "code",
   "execution_count": 36,
   "id": "9fffcd59",
   "metadata": {},
   "outputs": [
    {
     "name": "stdout",
     "output_type": "stream",
     "text": [
      "9876543210\n"
     ]
    }
   ],
   "source": [
    "print(s1[::-1])"
   ]
  },
  {
   "cell_type": "code",
   "execution_count": 37,
   "id": "a921704a",
   "metadata": {},
   "outputs": [
    {
     "name": "stdout",
     "output_type": "stream",
     "text": [
      "97531\n"
     ]
    }
   ],
   "source": [
    "print(s1[::-2])"
   ]
  },
  {
   "cell_type": "code",
   "execution_count": 32,
   "id": "7680ecb8",
   "metadata": {},
   "outputs": [],
   "source": [
    "#Example 4.8\n",
    "s3 = ' I love SCMA 249. '"
   ]
  },
  {
   "cell_type": "code",
   "execution_count": 33,
   "id": "3f2e0da8",
   "metadata": {},
   "outputs": [
    {
     "name": "stdout",
     "output_type": "stream",
     "text": [
      " i love scma 249. \n"
     ]
    }
   ],
   "source": [
    "s4 = s3.lower()\n",
    "print(s4)"
   ]
  },
  {
   "cell_type": "code",
   "execution_count": 34,
   "id": "ded61331",
   "metadata": {
    "scrolled": true
   },
   "outputs": [
    {
     "name": "stdout",
     "output_type": "stream",
     "text": [
      " I LOVE SCMA 249. \n"
     ]
    }
   ],
   "source": [
    "s5 = s3.upper()\n",
    "print(s5)"
   ]
  },
  {
   "cell_type": "code",
   "execution_count": 35,
   "id": "b4816bfc",
   "metadata": {},
   "outputs": [
    {
     "name": "stdout",
     "output_type": "stream",
     "text": [
      "I love SCMA 249.\n"
     ]
    }
   ],
   "source": [
    "s6 = s3.strip()\n",
    "print(s6)"
   ]
  },
  {
   "cell_type": "code",
   "execution_count": 36,
   "id": "ac80fdf7",
   "metadata": {
    "scrolled": true
   },
   "outputs": [
    {
     "name": "stdout",
     "output_type": "stream",
     "text": [
      "I LOVE SCMA 249.\n"
     ]
    }
   ],
   "source": [
    "s7 = s3.strip().upper()\n",
    "print(s7)"
   ]
  },
  {
   "cell_type": "code",
   "execution_count": 37,
   "id": "15167506",
   "metadata": {},
   "outputs": [
    {
     "name": "stdout",
     "output_type": "stream",
     "text": [
      "I (index 0)\n",
      "love (index 1)\n",
      "SCMA (index 2)\n",
      "249. (index 3)\n"
     ]
    }
   ],
   "source": [
    "a = s3.split()\n",
    "print(a[0],\"(index 0)\")\n",
    "print(a[1],\"(index 1)\")\n",
    "print(a[2],\"(index 2)\")\n",
    "print(a[3],\"(index 3)\")"
   ]
  },
  {
   "cell_type": "code",
   "execution_count": 38,
   "id": "02405e49",
   "metadata": {},
   "outputs": [
    {
     "data": {
      "text/plain": [
       "5"
      ]
     },
     "execution_count": 38,
     "metadata": {},
     "output_type": "execute_result"
    }
   ],
   "source": [
    "s3.count(' ')"
   ]
  },
  {
   "cell_type": "code",
   "execution_count": 39,
   "id": "1058cb3f",
   "metadata": {},
   "outputs": [
    {
     "data": {
      "text/plain": [
       "6"
      ]
     },
     "execution_count": 39,
     "metadata": {},
     "output_type": "execute_result"
    }
   ],
   "source": [
    "s3.index('e')"
   ]
  },
  {
   "cell_type": "code",
   "execution_count": 40,
   "id": "8879d36d",
   "metadata": {},
   "outputs": [
    {
     "data": {
      "text/plain": [
       "False"
      ]
     },
     "execution_count": 40,
     "metadata": {},
     "output_type": "execute_result"
    }
   ],
   "source": [
    "s3.isalpha()"
   ]
  },
  {
   "cell_type": "code",
   "execution_count": 41,
   "id": "6e093147",
   "metadata": {},
   "outputs": [
    {
     "data": {
      "text/plain": [
       "False"
      ]
     },
     "execution_count": 41,
     "metadata": {},
     "output_type": "execute_result"
    }
   ],
   "source": [
    "s[-4:-2].isalpha()"
   ]
  },
  {
   "cell_type": "code",
   "execution_count": 42,
   "id": "94e93e43",
   "metadata": {},
   "outputs": [
    {
     "data": {
      "text/plain": [
       "True"
      ]
     },
     "execution_count": 42,
     "metadata": {},
     "output_type": "execute_result"
    }
   ],
   "source": [
    "s[-9:-6].isalpha()"
   ]
  },
  {
   "cell_type": "code",
   "execution_count": 43,
   "id": "0e7824ba",
   "metadata": {},
   "outputs": [
    {
     "name": "stdout",
     "output_type": "stream",
     "text": [
      "Your string contains a non-letter.\n"
     ]
    }
   ],
   "source": [
    "#Example 4.9\n",
    "if s3[0].isalpha():\n",
    "    print('Your string starts with a letter')\n",
    "if not s3.isalpha():\n",
    "    print('Your string contains a non-letter.')"
   ]
  },
  {
   "cell_type": "code",
   "execution_count": 44,
   "id": "cf206b86",
   "metadata": {
    "scrolled": true
   },
   "outputs": [
    {
     "name": "stdout",
     "output_type": "stream",
     "text": [
      "SCMA\n",
      "249\n"
     ]
    }
   ],
   "source": [
    "#Example 4.10\n",
    "print('SCMA\\n249')"
   ]
  },
  {
   "cell_type": "code",
   "execution_count": 45,
   "id": "4a581ec5",
   "metadata": {
    "scrolled": true
   },
   "outputs": [
    {
     "data": {
      "text/plain": [
       "\"I don't want to miss any class of SCMA 249\""
      ]
     },
     "execution_count": 45,
     "metadata": {},
     "output_type": "execute_result"
    }
   ],
   "source": [
    "'I don\\'t want to miss any class of SCMA 249'"
   ]
  },
  {
   "cell_type": "code",
   "execution_count": 46,
   "id": "318696db",
   "metadata": {},
   "outputs": [
    {
     "name": "stdout",
     "output_type": "stream",
     "text": [
      "SCMA\t\t\t249\n"
     ]
    }
   ],
   "source": [
    "print('SCMA\\t\\t\\t249')"
   ]
  },
  {
   "cell_type": "code",
   "execution_count": 47,
   "id": "495d5d13",
   "metadata": {},
   "outputs": [
    {
     "data": {
      "text/plain": [
       "65"
      ]
     },
     "execution_count": 47,
     "metadata": {},
     "output_type": "execute_result"
    }
   ],
   "source": [
    "#Example 4.11\n",
    "ord('A')"
   ]
  },
  {
   "cell_type": "code",
   "execution_count": 48,
   "id": "382e5437",
   "metadata": {},
   "outputs": [
    {
     "data": {
      "text/plain": [
       "'}'"
      ]
     },
     "execution_count": 48,
     "metadata": {},
     "output_type": "execute_result"
    }
   ],
   "source": [
    "chr(125)"
   ]
  },
  {
   "cell_type": "code",
   "execution_count": 49,
   "id": "f3becdc5",
   "metadata": {
    "scrolled": true
   },
   "outputs": [
    {
     "ename": "TypeError",
     "evalue": "ord() expected a character, but string of length 7 found",
     "output_type": "error",
     "traceback": [
      "\u001b[0;31m---------------------------------------------------------------------------\u001b[0m",
      "\u001b[0;31mTypeError\u001b[0m                                 Traceback (most recent call last)",
      "Cell \u001b[0;32mIn[49], line 1\u001b[0m\n\u001b[0;32m----> 1\u001b[0m \u001b[38;5;28;43mord\u001b[39;49m\u001b[43m(\u001b[49m\u001b[38;5;124;43m'\u001b[39;49m\u001b[38;5;124;43mExample\u001b[39;49m\u001b[38;5;124;43m'\u001b[39;49m\u001b[43m)\u001b[49m\n",
      "\u001b[0;31mTypeError\u001b[0m: ord() expected a character, but string of length 7 found"
     ]
    }
   ],
   "source": [
    "ord('Example')"
   ]
  },
  {
   "cell_type": "code",
   "execution_count": 39,
   "id": "99f978ff",
   "metadata": {},
   "outputs": [],
   "source": [
    "#Example 4.12.1\n",
    "x1 = []"
   ]
  },
  {
   "cell_type": "code",
   "execution_count": 40,
   "id": "d0dd498d",
   "metadata": {},
   "outputs": [],
   "source": [
    "#Example 4.12.2\n",
    "x2 = list()"
   ]
  },
  {
   "cell_type": "code",
   "execution_count": 41,
   "id": "db1ec207",
   "metadata": {},
   "outputs": [],
   "source": [
    "#Example 4.12.3\n",
    "x3 = [2,4,9]"
   ]
  },
  {
   "cell_type": "code",
   "execution_count": 42,
   "id": "dd63346f",
   "metadata": {},
   "outputs": [],
   "source": [
    "#Example 4.12.4\n",
    "x4 = [249] * 10"
   ]
  },
  {
   "cell_type": "code",
   "execution_count": 43,
   "id": "ff6d8f70",
   "metadata": {},
   "outputs": [],
   "source": [
    "#Example 4.12.5\n",
    "x5 = list('SCMA 249')"
   ]
  },
  {
   "cell_type": "code",
   "execution_count": 44,
   "id": "f90c85da",
   "metadata": {},
   "outputs": [],
   "source": [
    "#Example 4.12.6\n",
    "x6 = list(range(1,10,2))"
   ]
  },
  {
   "cell_type": "code",
   "execution_count": 45,
   "id": "a39557c1",
   "metadata": {},
   "outputs": [],
   "source": [
    "#Example 4.12.7\n",
    "x7 = ['SCMA', 249, [1,2019]]"
   ]
  },
  {
   "cell_type": "code",
   "execution_count": 46,
   "id": "e64abde7",
   "metadata": {},
   "outputs": [],
   "source": [
    "#Example 4.12.8\n",
    "x8 = [1,2] + [0,1]"
   ]
  },
  {
   "cell_type": "code",
   "execution_count": 47,
   "id": "fc72f050",
   "metadata": {},
   "outputs": [
    {
     "data": {
      "text/plain": [
       "[1, 2, 0, 1, 0, 1, 1, 2, 0, 1, 0, 1]"
      ]
     },
     "execution_count": 47,
     "metadata": {},
     "output_type": "execute_result"
    }
   ],
   "source": [
    "#Example 4.12.9\n",
    "x9 = 2*([1,2] + 2*[0,1])\n",
    "x9"
   ]
  },
  {
   "cell_type": "code",
   "execution_count": 50,
   "id": "1dc8f8ed",
   "metadata": {},
   "outputs": [
    {
     "name": "stdout",
     "output_type": "stream",
     "text": [
      "[]\n",
      "[]\n",
      "[2, 4, 9]\n",
      "[249, 249, 249, 249, 249, 249, 249, 249, 249, 249]\n",
      "['S', 'C', 'M', 'A', ' ', '2', '4', '9']\n",
      "[1, 3, 5, 7, 9]\n",
      "['SCMA', 249, [1, 2019]]\n",
      "[1, 2, 0, 1]\n",
      "[1, 2, 0, 1, 0, 1, 1, 2, 0, 1, 0, 1]\n"
     ]
    },
    {
     "data": {
      "text/plain": [
       "str"
      ]
     },
     "execution_count": 50,
     "metadata": {},
     "output_type": "execute_result"
    }
   ],
   "source": [
    "print(x1)\n",
    "print(x2)\n",
    "print(x3)\n",
    "print(x4)\n",
    "print(x5)\n",
    "print(x6)\n",
    "print(x7)\n",
    "print(x8)\n",
    "print(x9)\n",
    "type(x7[0])"
   ]
  },
  {
   "cell_type": "code",
   "execution_count": 59,
   "id": "7b3b03f3",
   "metadata": {},
   "outputs": [
    {
     "data": {
      "text/plain": [
       "12"
      ]
     },
     "execution_count": 59,
     "metadata": {},
     "output_type": "execute_result"
    }
   ],
   "source": [
    "#Example 4.13.1\n",
    "len(x9)"
   ]
  },
  {
   "cell_type": "code",
   "execution_count": 60,
   "id": "12ecf8f7",
   "metadata": {},
   "outputs": [
    {
     "data": {
      "text/plain": [
       "10"
      ]
     },
     "execution_count": 60,
     "metadata": {},
     "output_type": "execute_result"
    }
   ],
   "source": [
    "#Example 4.13.2\n",
    "sum(x9)"
   ]
  },
  {
   "cell_type": "code",
   "execution_count": 61,
   "id": "3c7e74b2",
   "metadata": {},
   "outputs": [
    {
     "data": {
      "text/plain": [
       "0"
      ]
     },
     "execution_count": 61,
     "metadata": {},
     "output_type": "execute_result"
    }
   ],
   "source": [
    "#Example 4.13.3\n",
    "min(x9)"
   ]
  },
  {
   "cell_type": "code",
   "execution_count": 62,
   "id": "78b8b0b3",
   "metadata": {},
   "outputs": [
    {
     "data": {
      "text/plain": [
       "2"
      ]
     },
     "execution_count": 62,
     "metadata": {},
     "output_type": "execute_result"
    }
   ],
   "source": [
    "#Example 4.13.4\n",
    "max(x9)"
   ]
  },
  {
   "cell_type": "code",
   "execution_count": 63,
   "id": "e52c36a2",
   "metadata": {},
   "outputs": [
    {
     "name": "stdout",
     "output_type": "stream",
     "text": [
      "['S', 'C', 'M', 'A', ' ', '2', '4', '9', '!']\n"
     ]
    }
   ],
   "source": [
    "#Example 4.13.5\n",
    "x5.append('!')\n",
    "print(x5)\n",
    "#add \"!\" to the end of the list"
   ]
  },
  {
   "cell_type": "code",
   "execution_count": 64,
   "id": "7c097919",
   "metadata": {},
   "outputs": [
    {
     "data": {
      "text/plain": [
       "[0, 0, 0, 0, 1, 1, 1, 1, 1, 1, 2, 2]"
      ]
     },
     "execution_count": 64,
     "metadata": {},
     "output_type": "execute_result"
    }
   ],
   "source": [
    "#Example 4.13.6\n",
    "sorted(x9)"
   ]
  },
  {
   "cell_type": "code",
   "execution_count": 65,
   "id": "fe698cee",
   "metadata": {},
   "outputs": [
    {
     "data": {
      "text/plain": [
       "4"
      ]
     },
     "execution_count": 65,
     "metadata": {},
     "output_type": "execute_result"
    }
   ],
   "source": [
    "#Example 4.13.7\n",
    "x9.count(0)"
   ]
  },
  {
   "cell_type": "code",
   "execution_count": 66,
   "id": "bdc7ffa2",
   "metadata": {},
   "outputs": [
    {
     "data": {
      "text/plain": [
       "2"
      ]
     },
     "execution_count": 66,
     "metadata": {},
     "output_type": "execute_result"
    }
   ],
   "source": [
    "#Example 4.13.8\n",
    "x8.index(0)"
   ]
  },
  {
   "cell_type": "code",
   "execution_count": 67,
   "id": "bbc155a7",
   "metadata": {},
   "outputs": [
    {
     "name": "stdout",
     "output_type": "stream",
     "text": [
      "[1, 2, 0, 1, 0, 1, 1, 2, 0, 1, 0, 1]\n"
     ]
    }
   ],
   "source": [
    "#Example 4.13.9\n",
    "c = x9[:]\n",
    "print(c)"
   ]
  },
  {
   "cell_type": "code",
   "execution_count": 68,
   "id": "a10b16a7",
   "metadata": {},
   "outputs": [
    {
     "name": "stdout",
     "output_type": "stream",
     "text": [
      "[39, 48, 15, 49, 83, 11, 89, 71, 28, 53]\n"
     ]
    }
   ],
   "source": [
    "#Example 4.14\n",
    "from random import randint\n",
    "L1 = []\n",
    "for i in range(10):\n",
    "    L1.append(randint(1,100))\n",
    "print(L1)"
   ]
  },
  {
   "cell_type": "code",
   "execution_count": 69,
   "id": "13a1adcf",
   "metadata": {},
   "outputs": [
    {
     "name": "stdout",
     "output_type": "stream",
     "text": [
      "What is the capital of Thailand? Bangkok\n",
      "Correct!\n",
      "You have 1 out of 1 right\n",
      "From which language is the word 'ketchup' derived? Chinese\n",
      "Correct!\n",
      "You have 2 out of 2 right,\n"
     ]
    }
   ],
   "source": [
    "#Example 4.15 (づ ◕‿◕ )づ\n",
    "num_right = 0\n",
    "# Question 1\n",
    "print('What is the capital of Thailand?', end=' ')\n",
    "guess = input()\n",
    "if guess.lower()== 'bangkok':\n",
    "    print('Correct!')\n",
    "    num_right+=1\n",
    "else:\n",
    "    print('Wrong. The answer is Bangkok.')\n",
    "print('You have', num_right, 'out of 1 right')\n",
    "\n",
    "#Question 2\n",
    "print('From which language is the word \\'ketchup\\' derived?',end=' ')\n",
    "guess = input()\n",
    "if guess.lower()=='chinese':\n",
    "    print('Correct!')\n",
    "    num_right+=1\n",
    "else:\n",
    "    print('Wrong. The answer is Chinese.')\n",
    "print('You have', num_right, 'out of 2 right,')"
   ]
  }
 ],
 "metadata": {
  "kernelspec": {
   "display_name": "Python 3 (ipykernel)",
   "language": "python",
   "name": "python3"
  },
  "language_info": {
   "codemirror_mode": {
    "name": "ipython",
    "version": 3
   },
   "file_extension": ".py",
   "mimetype": "text/x-python",
   "name": "python",
   "nbconvert_exporter": "python",
   "pygments_lexer": "ipython3",
   "version": "3.10.9"
  }
 },
 "nbformat": 4,
 "nbformat_minor"