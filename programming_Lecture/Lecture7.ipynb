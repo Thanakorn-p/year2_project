{
 "cells": [
  {
   "cell_type": "code",
   "execution_count": 5,
   "id": "c516351d",
   "metadata": {},
   "outputs": [
    {
     "name": "stdout",
     "output_type": "stream",
     "text": [
      "[12, 41, 63, 80, 101]\n",
      "59.4\n",
      "101 12\n"
     ]
    }
   ],
   "source": [
    "#Example 7.1\n",
    "ex1 = [12,41,63,80,101]\n",
    "#(a)\n",
    "print(ex1)\n",
    "#(b)\n",
    "print(sum(ex1)/len(ex1))\n",
    "#(c)\n",
    "print(max(ex1),min(ex1))"
   ]
  },
  {
   "cell_type": "code",
   "execution_count": 9,
   "id": "8c792ad3",
   "metadata": {},
   "outputs": [
    {
     "name": "stdout",
     "output_type": "stream",
     "text": [
      "Enter the number: 1\n",
      "Enter the number: 2\n",
      "Enter the number: 11\n",
      "Enter the number: 12\n",
      "Enter the number: 13\n",
      "There are 3 numbers that are greather than 10\n"
     ]
    }
   ],
   "source": [
    "#Example 7.2\n",
    "count = 0\n",
    "for n in range(1,6):\n",
    "    a = float(input(\"Enter the number: \"))\n",
    "    if a > 10:\n",
    "        count += 1\n",
    "print(\"There are\",count,\"numbers that are greather than 10\")"
   ]
  },
  {
   "cell_type": "code",
   "execution_count": 11,
   "id": "bd4f68e0",
   "metadata": {},
   "outputs": [
    {
     "name": "stdout",
     "output_type": "stream",
     "text": [
      "209, 231, 242, 253, 264, 286, 297, 308, 319, 341, 352, 363, 374, 396, 407, 418, 429, 451, 462, 473, 484\n"
     ]
    },
    {
     "data": {
      "text/plain": [
       "\"\\nb = []\\nfor m in range(200, 501):\\n    if m % 11 == 0 and m % 5 != 0:\\n        b.append(str(m))\\n\\nif b:\\n    for i in range(len(b) - 1):\\n        print(b[i] + ', ', end='')\\n    print(b[-1])\\n\""
      ]
     },
     "execution_count": 11,
     "metadata": {},
     "output_type": "execute_result"
    }
   ],
   "source": [
    "#Example 7.3\n",
    "b = []\n",
    "for m in range(200,501):\n",
    "    if m%11 == 0 and m%5 != 0:\n",
    "        b.append(str(m))\n",
    "print(', '.join(b))\n",
    "#', '.join(b) is a Python statement that joins the elements of the list b into a single string, \n",
    "#separated by the string ', '\n",
    "\n",
    "\"\"\" other way\n",
    "b = []\n",
    "for m in range(200, 501):\n",
    "    if m % 11 == 0 and m % 5 != 0:\n",
    "        b.append(str(m))\n",
    "\n",
    "if b:\n",
    "    for i in range(len(b) - 1):\n",
    "        print(b[i] + ', ', end='')\n",
    "    print(b[-1])\n",
    "\"\"\""
   ]
  },
  {
   "cell_type": "code",
   "execution_count": 19,
   "id": "3bec948e",
   "metadata": {},
   "outputs": [
    {
     "name": "stdout",
     "output_type": "stream",
     "text": [
      "-1000\n"
     ]
    }
   ],
   "source": [
    "#Example 7.4\n",
    "x = 0\n",
    "for l in range(1,2001):\n",
    "    x += ((-1)**(l+1))*(l)\n",
    "print(x)"
   ]
  },
  {
   "cell_type": "code",
   "execution_count": 25,
   "id": "fe4851d9",
   "metadata": {},
   "outputs": [
    {
     "name": "stdout",
     "output_type": "stream",
     "text": [
      ":Enter a sentence: Hello world!\n",
      "UPPER CASE 1\n",
      "LOWER CASE 9\n"
     ]
    }
   ],
   "source": [
    "#Example 7.5\n",
    "e = input(\":Enter a sentence: \")\n",
    "f = {\"UPPER CASE\":0, \"LOWER CASE\":0}\n",
    "for g in e:\n",
    "    if g.isupper():\n",
    "        f[\"UPPER CASE\"] += 1\n",
    "    elif g.islower():\n",
    "        f[\"LOWER CASE\"] += 1\n",
    "    else:\n",
    "        pass\n",
    "print(\"UPPER CASE\", f[\"UPPER CASE\"])\n",
    "print(\"LOWER CASE\", f[\"LOWER CASE\"])"
   ]
  },
  {
   "cell_type": "code",
   "execution_count": 27,
   "id": "c0736960",
   "metadata": {},
   "outputs": [
    {
     "name": "stdout",
     "output_type": "stream",
     "text": [
      "Please enter an intergral number: 4\n",
      "-------------------------------\n",
      "1 \t\t 1\n",
      "2 \t\t 4\n",
      "3 \t\t 9\n",
      "4 \t\t 16\n",
      "-------------------------------\n"
     ]
    }
   ],
   "source": [
    "#Example 7.7\n",
    "sqnum = {}\n",
    "q = eval(input('Please enter an intergral number: '))\n",
    "print('-'*31)\n",
    "for x in range(1,q+1):\n",
    "    sqnum[x] = x*x\n",
    "    print(x,\"\\t\"*2,sqnum[x])\n",
    "print('-'*31)"
   ]
  },
  {
   "cell_type": "code",
   "execution_count": 29,
   "id": "e4928ce4",
   "metadata": {},
   "outputs": [
    {
     "name": "stdout",
     "output_type": "stream",
     "text": [
      "Missing number : 5\n",
      "Complete list: [1, 2, 3, 4, 5, 6, 7, 8, 9]\n"
     ]
    }
   ],
   "source": [
    "#Example 7.8\n",
    "ss = [1,2,3,4,6,7,8,9]\n",
    "for rr in range (min(ss),max(ss)):\n",
    "    if rr not in ss:\n",
    "        ss.insert(rr-1,rr)\n",
    "        print('Missing number :',rr)\n",
    "print('Complete list:',ss)"
   ]
  },
  {
   "cell_type": "code",
   "execution_count": null,
   "id": "c942de5b",
   "metadata": {},
   "outputs": [],
   "source": [
    "#Example 7.9\n",
    "s1 = 0\n",
    "a1 = str(input(\"Enter a number: \"))\n",
    "for i1 in range(len(a1)):\n",
    "    s1 += int(a1[i1])\n",
    "print(\"The sum of all digits is\",s1,\".\")"
   ]
  },
  {
   "cell_type": "code",
   "execution_count": 30,
   "id": "1e974b21",
   "metadata": {},
   "outputs": [
    {
     "name": "stdout",
     "output_type": "stream",
     "text": [
      "Enter an integer: 234\n",
      "432\n"
     ]
    }
   ],
   "source": [
    "#Example 7.10\n",
    "b2 = \"\"\n",
    "a2 = str(input(\"Enter an integer: \"))\n",
    "for i2 in range(1,len(a2)+1):\n",
    "    b2 += a2[len(a2)-i2]\n",
    "print(int(b2))"
   ]
  }
 ],
 "metadata": {
  "kernelspec": {
   "display_name": "Python 3 (ipykernel)",
   "language": "python",
   "name": "python3"
  },
  "language_info": {
   "codemirror_mode": {
    "name": "ipython",
    "version": 3
   },
   "file_extension": ".py",
   "mimetype": "text/x-python",
   "name": "python",
   "nbconvert_exporter": "python",
   "pygments_lexer": "ipython3",
   "version": "3.10.9"
  }
 },
 "nbformat": 4,
 "nbformat_minor": 5
}
