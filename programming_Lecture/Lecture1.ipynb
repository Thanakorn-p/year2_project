{
 "cells": [
  {
   "cell_type": "code",
   "execution_count": 1,
   "id": "7b84e5cb",
   "metadata": {},
   "outputs": [
    {
     "name": "stdout",
     "output_type": "stream",
     "text": [
      "I love SCMA 249\n",
      "I love SCMA 249\n"
     ]
    }
   ],
   "source": [
    "# Test the comment \n",
    "print(\"I love SCMA 249\")\n",
    "print('I love SCMA 249')"
   ]
  },
  {
   "cell_type": "code",
   "execution_count": 2,
   "id": "45cc3c75",
   "metadata": {},
   "outputs": [
    {
     "name": "stdout",
     "output_type": "stream",
     "text": [
      "this string contain a single quote (') character\n"
     ]
    }
   ],
   "source": [
    "print(\"this string contain a single quote (') character\")"
   ]
  },
  {
   "cell_type": "code",
   "execution_count": 3,
   "id": "1ac554c0",
   "metadata": {},
   "outputs": [
    {
     "data": {
      "text/plain": [
       "float"
      ]
     },
     "execution_count": 3,
     "metadata": {},
     "output_type": "execute_result"
    }
   ],
   "source": [
    "4.2\n",
    "type(4.2)"
   ]
  },
  {
   "cell_type": "code",
   "execution_count": 4,
   "id": "6beca868",
   "metadata": {},
   "outputs": [
    {
     "data": {
      "text/plain": [
       "420000000.0"
      ]
     },
     "execution_count": 4,
     "metadata": {},
     "output_type": "execute_result"
    }
   ],
   "source": [
    "4.2e8"
   ]
  },
  {
   "cell_type": "code",
   "execution_count": 5,
   "id": "15934c5d",
   "metadata": {},
   "outputs": [
    {
     "name": "stdout",
     "output_type": "stream",
     "text": [
      "1.0\n",
      "1.0\n"
     ]
    }
   ],
   "source": [
    "# Assign values to variable\\\n",
    "a = b = c = 1.0\n",
    "d = \"I love SCMA 249\"\n",
    "print(a)\n",
    "print(b)"
   ]
  },
  {
   "cell_type": "code",
   "execution_count": 6,
   "id": "d14448f4",
   "metadata": {},
   "outputs": [
    {
     "name": "stdout",
     "output_type": "stream",
     "text": [
      "2.0\n"
     ]
    }
   ],
   "source": [
    "print(a+b)"
   ]
  },
  {
   "cell_type": "code",
   "execution_count": 7,
   "id": "542406df",
   "metadata": {},
   "outputs": [
    {
     "ename": "SyntaxError",
     "evalue": "invalid syntax (2878482826.py, line 1)",
     "output_type": "error",
     "traceback": [
      "\u001b[0;36m  Cell \u001b[0;32mIn[7], line 1\u001b[0;36m\u001b[0m\n\u001b[0;31m    my variable = 12\u001b[0m\n\u001b[0m       ^\u001b[0m\n\u001b[0;31mSyntaxError\u001b[0m\u001b[0;31m:\u001b[0m invalid syntax\n"
     ]
    }
   ],
   "source": [
    "my variable = 12"
   ]
  }
 ],
 "metadata": {
  "kernelspec": {
   "display_name": "Python 3 (ipykernel)",
   "language": "python",
   "name": "python3"
  },
  "language_info": {
   "codemirror_mode": {
    "name": "ipython",
    "version": 3
   },
   "file_extension": ".py",
   "mimetype": "text/x-python",
   "name": "python",
   "nbconvert_exporter": "python",
   "pygments_lexer": "ipython3",
   "version": "3.10.9"
  }
 },
 "nbformat": 4,
 "nbformat_minor": 5
}
