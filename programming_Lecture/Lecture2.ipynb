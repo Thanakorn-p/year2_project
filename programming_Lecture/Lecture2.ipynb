{
 "cells": [
  {
   "cell_type": "code",
   "execution_count": 1,
   "id": "05dbfc4d",
   "metadata": {
    "scrolled": true
   },
   "outputs": [
    {
     "name": "stdout",
     "output_type": "stream",
     "text": [
      "Enter your name:Thanakorn Pongritsakda\n"
     ]
    }
   ],
   "source": [
    "# Example 2.1\n",
    "name = input('Enter your name:')"
   ]
  },
  {
   "cell_type": "code",
   "execution_count": 2,
   "id": "69a277c5",
   "metadata": {},
   "outputs": [
    {
     "name": "stdout",
     "output_type": "stream",
     "text": [
      "Enter a number150\n"
     ]
    },
    {
     "data": {
      "text/plain": [
       "22500"
      ]
     },
     "execution_count": 2,
     "metadata": {},
     "output_type": "execute_result"
    }
   ],
   "source": [
    "# Example 2.2 \n",
    "num = eval(input('Enter a number'))\n",
    "sq = num*num\n",
    "sq"
   ]
  },
  {
   "cell_type": "code",
   "execution_count": 3,
   "id": "6c2ac50c",
   "metadata": {},
   "outputs": [
    {
     "name": "stdout",
     "output_type": "stream",
     "text": [
      "Help on built-in function eval in module builtins:\n",
      "\n",
      "eval(source, globals=None, locals=None, /)\n",
      "    Evaluate the given source in the context of globals and locals.\n",
      "    \n",
      "    The source may be a string representing a Python expression\n",
      "    or a code object as returned by compile().\n",
      "    The globals must be a dictionary and locals can be any mapping,\n",
      "    defaulting to the current globals and locals.\n",
      "    If only globals is given, locals defaults to it.\n",
      "\n"
     ]
    }
   ],
   "source": [
    "help(eval)"
   ]
  },
  {
   "cell_type": "code",
   "execution_count": 4,
   "id": "cb5d8de0",
   "metadata": {},
   "outputs": [
    {
     "name": "stdout",
     "output_type": "stream",
     "text": [
      "Thanakorn Pongritsakda\n"
     ]
    }
   ],
   "source": [
    "#Example 2.3\n",
    "print(name)"
   ]
  },
  {
   "cell_type": "code",
   "execution_count": 5,
   "id": "2d7f31b1",
   "metadata": {},
   "outputs": [
    {
     "name": "stdout",
     "output_type": "stream",
     "text": [
      "2*4\n",
      "the value of 2*4 is 8\n"
     ]
    }
   ],
   "source": [
    "#Example 2.5\n",
    "print('2*4')\n",
    "print('the value of 2*4 is', 2*4)"
   ]
  },
  {
   "cell_type": "code",
   "execution_count": 6,
   "id": "f644e48b",
   "metadata": {},
   "outputs": [
    {
     "name": "stdout",
     "output_type": "stream",
     "text": [
      "Enter the cost price (baht):150\n",
      "Enter the selling price (baht):350\n",
      "Somkid makes profit of  200\n"
     ]
    }
   ],
   "source": [
    "# Example 2.6\n",
    "#Read the cost price\n",
    "cp = eval(input('Enter the cost price (baht):'))\n",
    "\n",
    "#Read the value of selling price\n",
    "sp = eval(input('Enter the selling price (baht):'))\n",
    "if sp > cp:\n",
    "    profit = sp - cp\n",
    "    print('Somkid makes profit of ', profit)\n",
    "elif sp < cp:\n",
    "    loss = cp - sp\n",
    "    print('Somkid makes loss of ', loss)\n",
    "else:\n",
    "    print('Breakeven')"
   ]
  },
  {
   "cell_type": "code",
   "execution_count": 7,
   "id": "2df2d114",
   "metadata": {},
   "outputs": [],
   "source": [
    "#import radint fuction\n",
    "from random import randint"
   ]
  },
  {
   "cell_type": "code",
   "execution_count": 8,
   "id": "e9a6ba74",
   "metadata": {},
   "outputs": [
    {
     "name": "stdout",
     "output_type": "stream",
     "text": [
      "Enter your guess: 150\n",
      "Sorry. the correct number is 1\n"
     ]
    }
   ],
   "source": [
    "#Example 2.7\n",
    "num = randint(1,2)\n",
    "guess = eval(input('Enter your guess: '))\n",
    "if guess==num:\n",
    "    print('You got it!')\n",
    "else:\n",
    "    print('Sorry. the correct number is', num)"
   ]
  },
  {
   "cell_type": "code",
   "execution_count": 9,
   "id": "4742db61",
   "metadata": {},
   "outputs": [
    {
     "name": "stdout",
     "output_type": "stream",
     "text": [
      "Enter your score: 1\n",
      "F\n"
     ]
    }
   ],
   "source": [
    "grade = eval(input('Enter your score: '))\n",
    "if grade>=90:\n",
    "    print('A')\n",
    "if grade>=80 and grade<90:\n",
    "    print('B')\n",
    "if grade>=70 and grade<80:\n",
    "    print('C')\n",
    "if grade>=60 and grade<70:\n",
    "    print('D')\n",
    "if grade<60:\n",
    "    print('F')"
   ]
  },
  {
   "cell_type": "code",
   "execution_count": 10,
   "id": "0ee1caa4",
   "metadata": {},
   "outputs": [
    {
     "name": "stdout",
     "output_type": "stream",
     "text": [
      "Enter your score: 90\n",
      "A\n"
     ]
    }
   ],
   "source": [
    "grade = eval(input('Enter your score: '))\n",
    "if grade>=90:\n",
    "    print('A')\n",
    "elif grade>=80: \n",
    "    print('B')\n",
    "elif grade>=70: \n",
    "    print('C')\n",
    "elif grade>=70:\n",
    "    print('D')\n",
    "else:\n",
    "    print('F')"
   ]
  }
 ],
 "metadata": {
  "kernelspec": {
   "display_name": "Python 3 (ipykernel)",
   "language": "python",
   "name": "python3"
  },
  "language_info": {
   "codemirror_mode": {
    "name": "ipython",
    "version": 3
   },
   "file_extension": ".py",
   "mimetype": "text/x-python",
   "name": "python",
   "nbconvert_exporter": "python",
   "pygments_lexer": "ipython3",
   "version": "3.10.9"
  }
 },
 "nbformat": 4,
 "nbformat_minor": 5
}
